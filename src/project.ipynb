{
 "cells": [
  {
   "cell_type": "markdown",
   "id": "f4e1435f-860e-44a4-b9ac-b985f9aeeab7",
   "metadata": {},
   "source": [
    "### Computer Networks Final Project:\n",
    "\n",
    "Submitted by: <br>\n",
    "Avi Ostroff - 327341590 <br>\n",
    "Noa Amichai - 206996381 "
   ]
  },
  {
   "cell_type": "code",
   "execution_count": 216,
   "id": "c062c942-148b-4796-ab20-52a62c6ead60",
   "metadata": {},
   "outputs": [],
   "source": [
    "import pandas as pd\n",
    "import numpy as np\n",
    "import matplotlib.pyplot as plt\n",
    "from scipy.stats import expon\n",
    "from tabulate import tabulate"
   ]
  },
  {
   "cell_type": "markdown",
   "id": "ee15e222-f2fa-48a8-80b8-3817b293ff4d",
   "metadata": {
    "jp-MarkdownHeadingCollapsed": true
   },
   "source": [
    "*The goal of our project is to analyze metadata from messaging groups in order to gain insights about the information being exchanged.*<br> *To accomplish this, we recorded the traffic from four different WhatsApp Web groups, each exhibiting distinct characteristics:*\n",
    "\n",
    "*Group A: Only picture messages were sent within this group.<br>\n",
    "Group B: Only Text messages were sent within this group.<br>\n",
    "Group C: Only Video files were sent within this group.<br>\n",
    "Group D: Only Audio files were sent within this group.<br>\n",
    "This diversity in group traffic composition allowed us to analyze whether unique fingerprints emerged in the timing and size patterns for different content types.<br>*\n",
    "\n",
    "*Additionally, we captured another dataset from Group A and B. In this new capture, while sending pictures and text, we added background \"noise\" by streaming music on Spotify concurrently.<br> We did this experiment to see if we could still identify the pictures and text and to see if spotify hinders this procces.<br>*\n",
    "\n",
    "*We also captured a third dataset from all groups mixed together.<br> We tried to understand from this how different times look next to each other.*"
   ]
  },
  {
   "cell_type": "code",
   "execution_count": 217,
   "id": "0a982f6f-87d7-4c87-9e1a-469aaf70d941",
   "metadata": {},
   "outputs": [],
   "source": [
    "def plot_graph(data_frame, graph_title):\n",
    "    \"\"\"\n",
    "    Plot a stem graph using data from the provided DataFrame.\n",
    "    \"\"\"\n",
    "    # Extract data from the DataFrame\n",
    "    time_values = data_frame['Time']\n",
    "    length_values = data_frame['Length']\n",
    "    \n",
    "    # Create a new figure\n",
    "    plt.figure(figsize=(15, 6)) \n",
    "    \n",
    "    # Plot the stem graph\n",
    "    plt.stem(time_values, length_values, linefmt='black', markerfmt=' ', basefmt='black')\n",
    "    \n",
    "    # Set labels and title\n",
    "    plt.xlabel('Time')\n",
    "    plt.ylabel('Length')\n",
    "    plt.title(graph_title, fontsize=15)\n",
    "    plt.savefig(\"../res/\"+graph_title+\".png\")\n",
    "    \n",
    "    # Display the graph\n",
    "    plt.show()"
   ]
  },
  {
   "cell_type": "code",
   "execution_count": 218,
   "id": "f8b937b3",
   "metadata": {},
   "outputs": [],
   "source": [
    "def compute_pdf(data_frame, bins=10):\n",
    "    \"\"\"\n",
    "    Calculate the Probability Density Function (PDF) for inter-arrival time.\n",
    "    \"\"\"\n",
    "    delays = data_frame['Time'].diff().shift(-1).dropna()\n",
    "    \n",
    "    # Create a histogram of inter-arrival times\n",
    "    counts, bin_boundaries = np.histogram(delays, bins=bins, density=True)\n",
    "    \n",
    "    # Normalize counts to get PDF values\n",
    "    pdf_values = counts / sum(counts)\n",
    "    \n",
    "    return bin_boundaries, pdf_values"
   ]
  },
  {
   "cell_type": "code",
   "execution_count": 219,
   "id": "38ee4c53-08ab-442f-8197-c3b132bca757",
   "metadata": {},
   "outputs": [],
   "source": [
    "def custom_exponential(x, lambda_val, scaling):\n",
    "    res = scaling * lambda_val * np.exp(-lambda_val * x)\n",
    "    return res\n",
    "\n",
    "def visualize_interarrival_pdf(data_frame, edges, pdf_vals):\n",
    "    inter_delays = data_frame['Time'].diff().shift(-1).dropna()\n",
    "    \n",
    "    plt.figure(figsize=(6, 3))\n",
    "    \n",
    "    plt.hist(bin_edges[:-1], bins=bin_edges, weights=pdf,color='blue', histtype='step', linewidth=2,label='Histogram of Inter Message Delays')\n",
    "    \n",
    "    estimated_lambda = 1. / np.mean(inter_delays)\n",
    "    \n",
    "    bin_w = edges[1] - edges[0]\n",
    "    max_pdf_val = max(pdf_vals)\n",
    "    scaling_factor = max_pdf_val / (estimated_lambda * np.exp(-estimated_lambda * edges[np.argmax(pdf_vals)]))\n",
    "    \n",
    "    fitted_x = np.linspace(0, max(edges), 500)\n",
    "    \n",
    "    fitted_y = custom_exponential(fitted_x, estimated_lambda, scaling_factor)\n",
    "    \n",
    "    plt.plot(fitted_x, fitted_y, color='red', lw=2, label='Fitted Exponential Distribution')\n",
    "    \n",
    "    plt.xlabel('Inter-Arrival Time')\n",
    "    plt.ylabel('PDF')\n",
    "    plt.title('PDF of Inter-Arrival Time and Fitted Exponential Distribution')\n",
    "    plt.legend()\n",
    "    plt.grid(True)\n",
    "    plt.show()"
   ]
  },
  {
   "cell_type": "code",
   "execution_count": 220,
   "id": "3eb62352-8942-4227-8439-90743313b147",
   "metadata": {},
   "outputs": [],
   "source": [
    "def plot_hist(data_frame, max_range, graph_title):\n",
    "    \"\"\"\n",
    "    Plot a histogram of the given data within the specified range.\n",
    "    \"\"\"\n",
    "    \n",
    "    data_diff = data_frame['Time'].diff().shift(-1)\n",
    "    \n",
    "    bins = range(0, max_range) \n",
    "    plt.figure(figsize=(6,3)) \n",
    "    \n",
    "    # Plot histogram\n",
    "    plt.hist(data_diff, bins=bins, color='yellow', edgecolor='black')\n",
    "    \n",
    "    # Labels and title\n",
    "    plt.xlabel('Time Difference')\n",
    "    plt.ylabel('Frequency')\n",
    "    plt.title(graph_title)\n",
    "    \n",
    "    # Show plot\n",
    "    plt.show()"
   ]
  },
  {
   "cell_type": "code",
   "execution_count": 221,
   "id": "fa48a528-cca1-49d3-94cd-d4e9a4f21a20",
   "metadata": {},
   "outputs": [],
   "source": [
    "def plot_main_and_sub_graph(main_data_frame, sub_data_frame, graph_title,sub_title1, sub_title2):\n",
    "    \"\"\"\n",
    "    Plot a stem graph using data from the provided main DataFrame and sub DataFrame.\n",
    "    Main DataFrame will be plotted in red, and sub DataFrame will be plotted in blue.\n",
    "    \"\"\"\n",
    "    # Extract data from the main DataFrame\n",
    "    main_time_values = main_data_frame['Time']\n",
    "    main_length_values = main_data_frame['Length']\n",
    "    \n",
    "    # Extract data from the sub DataFrame\n",
    "    sub_time_values = sub_data_frame['Time']\n",
    "    sub_length_values = sub_data_frame['Length']\n",
    "    \n",
    "    # Create a new figure\n",
    "    plt.figure(figsize=(15, 6))\n",
    "    \n",
    "    # Plot the main data in red\n",
    "    plt.stem(main_time_values, main_length_values, linefmt='tomato', markerfmt=' ', basefmt='tomato')\n",
    "    \n",
    "    # Plot the sub data in blue\n",
    "    plt.stem(sub_time_values, sub_length_values, linefmt='cornflowerblue', markerfmt=' ', basefmt='cornflowerblue')\n",
    "    \n",
    "    # Set labels, title, and legend\n",
    "    plt.xlabel('Time')\n",
    "    plt.ylabel('Length')\n",
    "    plt.title(graph_title, fontsize=15)\n",
    "    plt.legend([sub_title1,sub_title2])\n",
    "    # Display the graph\n",
    "    plt.show()"
   ]
  },
  {
   "cell_type": "code",
   "execution_count": 222,
   "id": "3374b4ea-53c3-4745-9e40-46aae00d3af2",
   "metadata": {},
   "outputs": [],
   "source": [
    "def filter_data_by_ip(df, source_ip=None, dest_ip=None):\n",
    "    \"\"\"\n",
    "    Filter packet DataFrame by source and destination IP.\n",
    "    \"\"\"\n",
    "    if source_ip and dest_ip:\n",
    "        df = df.loc[(df['Source'] == source_ip) & (df['Destination'] == dest_ip)]\n",
    "\n",
    "    elif source_ip:\n",
    "        df = df[df['Source'] == source_ip]\n",
    "        \n",
    "    elif dest_ip:\n",
    "        df = df[df['Destination'] == dest_ip]\n",
    "        \n",
    "    return df"
   ]
  },
  {
   "cell_type": "markdown",
   "id": "e6222fc6-7d07-4ca9-aa88-ce9adaebb554",
   "metadata": {},
   "source": [
    "*After capturing the data and filtering on tcp.port=443, we tried to understand how we could further filter the data to obtain the relevant packets.<br> Therefore, we decided to filter the data based on the IP address of the attacked user and the IP address of the WhatsApp web server.<br>*\n",
    "\n",
    "*By only looking at packets sent between the attacked user and the WhatsApp server, we aimed to isolate the metadata specific to our WhatsApp web usage.<br> This should allow us to analyze messaging patterns, message frequency, and other relevant metrics for our account.<br>*\n",
    "\n",
    "*Filtering out other extraneous network traffic that is not related to our WhatsApp web session helps reduce noise in the data and lets us focus our analysis specifically on the attacked user's WhatsApp messaging metadata.*\n",
    "<br> "
   ]
  },
  {
   "attachments": {
    "74bbde6e-86de-4f4b-ad65-5782285eebad.png": {
     "image/png": "[encoded data removed]"
    }
   },
   "cell_type": "markdown",
   "id": "b7f0a4c6-a471-4c60-b628-b6f140619275",
   "metadata": {},
   "source": [
    "Using the `nslookup` command, we identified the IP address of the WhatsApp server. We also used the `ifconfig` command to find the IP address of our the attacked user (obviously you would need a different way to get it in a real life situation).\n",
    "\n",
    "![Screenshot from 2023-08-14 18-27-59.png](attachment:74bbde6e-86de-4f4b-ad65-5782285eebad.png)"
   ]
  },
  {
   "cell_type": "markdown",
   "id": "c308f50a-8c0c-4ae5-b0f9-489df16f63bb",
   "metadata": {},
   "source": [
    "### Pictures Group"
   ]
  },
  {
   "cell_type": "markdown",
   "id": "0c7e1459-56e6-4949-9006-874b01ac8882",
   "metadata": {},
   "source": [
    "In this group, this collection of photos was transmitted individually over time, as evidenced by the separate peaks visible in the branch diagram, with each tall column representing one picture except the middle column which was a few. The sequential nature of the photo transfer is clearly depicted in the branching pattern, which shows the distinct points at which each image was sent. This visualization provides an intuitive overview of how these photos were handled - being dealt with one at a time rather than batched together(except the middle one for contrast). Going forward, further analysis of the branching structure and peaks could offer additional insights into the timing and efficiency of the photo transfer process. Overall, the diagram effectively conveys the individualized approach taken for this set of photos in a clear and understandable format.Additionally\n",
    "we have the middle column for contrast to see how a succession of sent images looks like."
   ]
  },
  {
   "cell_type": "code",
   "execution_count": 272,
   "id": "5d1f974b-48ad-40bb-8eaa-afba84760dd1",
   "metadata": {},
   "outputs": [
    {
     "data": {
      "text/html": [
       "<div>\n",
       "<style scoped>\n",
       "    .dataframe tbody tr th:only-of-type {\n",
       "        vertical-align: middle;\n",
       "    }\n",
       "\n",
       "    .dataframe tbody tr th {\n",
       "        vertical-align: top;\n",
       "    }\n",
       "\n",
       "    .dataframe thead th {\n",
       "        text-align: right;\n",
       "    }\n",
       "</style>\n",
       "<table border=\"1\" class=\"dataframe\">\n",
       "  <thead>\n",
       "    <tr style=\"text-align: right;\">\n",
       "      <th></th>\n",
       "      <th>No.</th>\n",
       "      <th>Time</th>\n",
       "      <th>Source</th>\n",
       "      <th>Destination</th>\n",
       "      <th>Protocol</th>\n",
       "      <th>Length</th>\n",
       "      <th>Info</th>\n",
       "    </tr>\n",
       "  </thead>\n",
       "  <tbody>\n",
       "    <tr>\n",
       "      <th>2</th>\n",
       "      <td>8</td>\n",
       "      <td>10.025438</td>\n",
       "      <td>2a03:2880:f242:c8:face:b00c:0:167</td>\n",
       "      <td>2a10:8012:21:4188:c63c:3614:4d2b:1483</td>\n",
       "      <td>TLSv1.2</td>\n",
       "      <td>367</td>\n",
       "      <td>Application Data</td>\n",
       "    </tr>\n",
       "    <tr>\n",
       "      <th>8</th>\n",
       "      <td>15</td>\n",
       "      <td>12.994164</td>\n",
       "      <td>2a03:2880:f242:c8:face:b00c:0:167</td>\n",
       "      <td>2a10:8012:21:4188:c63c:3614:4d2b:1483</td>\n",
       "      <td>TLSv1.2</td>\n",
       "      <td>160</td>\n",
       "      <td>Application Data</td>\n",
       "    </tr>\n",
       "    <tr>\n",
       "      <th>10</th>\n",
       "      <td>18</td>\n",
       "      <td>13.815918</td>\n",
       "      <td>2a03:2880:f242:c8:face:b00c:0:167</td>\n",
       "      <td>2a10:8012:21:4188:c63c:3614:4d2b:1483</td>\n",
       "      <td>TLSv1.2</td>\n",
       "      <td>1726</td>\n",
       "      <td>Application Data, Application Data</td>\n",
       "    </tr>\n",
       "    <tr>\n",
       "      <th>70</th>\n",
       "      <td>96</td>\n",
       "      <td>24.428034</td>\n",
       "      <td>2a03:2880:f242:c8:face:b00c:0:167</td>\n",
       "      <td>2a10:8012:21:4188:c63c:3614:4d2b:1483</td>\n",
       "      <td>TLSv1.2</td>\n",
       "      <td>152</td>\n",
       "      <td>Application Data</td>\n",
       "    </tr>\n",
       "    <tr>\n",
       "      <th>72</th>\n",
       "      <td>104</td>\n",
       "      <td>46.276527</td>\n",
       "      <td>2a03:2880:f242:c8:face:b00c:0:167</td>\n",
       "      <td>2a10:8012:21:4188:c63c:3614:4d2b:1483</td>\n",
       "      <td>TLSv1.2</td>\n",
       "      <td>1512</td>\n",
       "      <td>Application Data</td>\n",
       "    </tr>\n",
       "    <tr>\n",
       "      <th>...</th>\n",
       "      <td>...</td>\n",
       "      <td>...</td>\n",
       "      <td>...</td>\n",
       "      <td>...</td>\n",
       "      <td>...</td>\n",
       "      <td>...</td>\n",
       "      <td>...</td>\n",
       "    </tr>\n",
       "    <tr>\n",
       "      <th>856</th>\n",
       "      <td>1487</td>\n",
       "      <td>600.355227</td>\n",
       "      <td>2a03:2880:f242:c8:face:b00c:0:167</td>\n",
       "      <td>2a10:8012:21:4188:c63c:3614:4d2b:1483</td>\n",
       "      <td>TLSv1.2</td>\n",
       "      <td>274</td>\n",
       "      <td>Application Data</td>\n",
       "    </tr>\n",
       "    <tr>\n",
       "      <th>860</th>\n",
       "      <td>1516</td>\n",
       "      <td>611.634378</td>\n",
       "      <td>2a03:2880:f242:c8:face:b00c:0:167</td>\n",
       "      <td>2a10:8012:21:4188:c63c:3614:4d2b:1483</td>\n",
       "      <td>TLSv1.2</td>\n",
       "      <td>1591</td>\n",
       "      <td>Application Data</td>\n",
       "    </tr>\n",
       "    <tr>\n",
       "      <th>984</th>\n",
       "      <td>1640</td>\n",
       "      <td>612.510423</td>\n",
       "      <td>2a03:2880:f242:c8:face:b00c:0:167</td>\n",
       "      <td>2a10:8012:21:4188:c63c:3614:4d2b:1483</td>\n",
       "      <td>TLSv1.2</td>\n",
       "      <td>2022</td>\n",
       "      <td>Application Data, Application Data</td>\n",
       "    </tr>\n",
       "    <tr>\n",
       "      <th>1038</th>\n",
       "      <td>1695</td>\n",
       "      <td>614.486099</td>\n",
       "      <td>2a03:2880:f242:c8:face:b00c:0:167</td>\n",
       "      <td>2a10:8012:21:4188:c63c:3614:4d2b:1483</td>\n",
       "      <td>TLSv1.2</td>\n",
       "      <td>160</td>\n",
       "      <td>Application Data</td>\n",
       "    </tr>\n",
       "    <tr>\n",
       "      <th>1040</th>\n",
       "      <td>1697</td>\n",
       "      <td>615.510384</td>\n",
       "      <td>2a03:2880:f242:c8:face:b00c:0:167</td>\n",
       "      <td>2a10:8012:21:4188:c63c:3614:4d2b:1483</td>\n",
       "      <td>TLSv1.2</td>\n",
       "      <td>181</td>\n",
       "      <td>Application Data</td>\n",
       "    </tr>\n",
       "  </tbody>\n",
       "</table>\n",
       "<p>85 rows × 7 columns</p>\n",
       "</div>"
      ],
      "text/plain": [
       "       No.        Time                             Source  \\\n",
       "2        8   10.025438  2a03:2880:f242:c8:face:b00c:0:167   \n",
       "8       15   12.994164  2a03:2880:f242:c8:face:b00c:0:167   \n",
       "10      18   13.815918  2a03:2880:f242:c8:face:b00c:0:167   \n",
       "70      96   24.428034  2a03:2880:f242:c8:face:b00c:0:167   \n",
       "72     104   46.276527  2a03:2880:f242:c8:face:b00c:0:167   \n",
       "...    ...         ...                                ...   \n",
       "856   1487  600.355227  2a03:2880:f242:c8:face:b00c:0:167   \n",
       "860   1516  611.634378  2a03:2880:f242:c8:face:b00c:0:167   \n",
       "984   1640  612.510423  2a03:2880:f242:c8:face:b00c:0:167   \n",
       "1038  1695  614.486099  2a03:2880:f242:c8:face:b00c:0:167   \n",
       "1040  1697  615.510384  2a03:2880:f242:c8:face:b00c:0:167   \n",
       "\n",
       "                                Destination Protocol  Length  \\\n",
       "2     2a10:8012:21:4188:c63c:3614:4d2b:1483  TLSv1.2     367   \n",
       "8     2a10:8012:21:4188:c63c:3614:4d2b:1483  TLSv1.2     160   \n",
       "10    2a10:8012:21:4188:c63c:3614:4d2b:1483  TLSv1.2    1726   \n",
       "70    2a10:8012:21:4188:c63c:3614:4d2b:1483  TLSv1.2     152   \n",
       "72    2a10:8012:21:4188:c63c:3614:4d2b:1483  TLSv1.2    1512   \n",
       "...                                     ...      ...     ...   \n",
       "856   2a10:8012:21:4188:c63c:3614:4d2b:1483  TLSv1.2     274   \n",
       "860   2a10:8012:21:4188:c63c:3614:4d2b:1483  TLSv1.2    1591   \n",
       "984   2a10:8012:21:4188:c63c:3614:4d2b:1483  TLSv1.2    2022   \n",
       "1038  2a10:8012:21:4188:c63c:3614:4d2b:1483  TLSv1.2     160   \n",
       "1040  2a10:8012:21:4188:c63c:3614:4d2b:1483  TLSv1.2     181   \n",
       "\n",
       "                                    Info  \n",
       "2                       Application Data  \n",
       "8                       Application Data  \n",
       "10    Application Data, Application Data  \n",
       "70                      Application Data  \n",
       "72                      Application Data  \n",
       "...                                  ...  \n",
       "856                     Application Data  \n",
       "860                     Application Data  \n",
       "984   Application Data, Application Data  \n",
       "1038                    Application Data  \n",
       "1040                    Application Data  \n",
       "\n",
       "[85 rows x 7 columns]"
      ]
     },
     "execution_count": 272,
     "metadata": {},
     "output_type": "execute_result"
    }
   ],
   "source": [
    "pictures_data = pd.read_csv(\"../resources/Pictures Group/pictures_data.csv\")\n",
    "\n",
    "pictures_data = pictures_data[pictures_data['Protocol'].str.contains('TLS')] \n",
    "pictures_data = filter_data_by_ip(pictures_data,'2a03:2880:f242:c8:face:b00c:0:167','2a10:8012:21:4188:c63c:3614:4d2b:1483')\n",
    "\n",
    "pictures_data"
   ]
  },
  {
   "cell_type": "code",
   "execution_count": 273,
   "id": "c0cc2ccf-39e2-4063-8123-285d4d0e09dc",
   "metadata": {},
   "outputs": [
    {
     "data": {
      "image/png": "[encoded data removed]",
      "text/plain": [
       "<Figure size 1080x432 with 1 Axes>"
      ]
     },
     "metadata": {
      "needs_background": "light"
     },
     "output_type": "display_data"
    }
   ],
   "source": [
    "plot_graph(pictures_data,'Time vs Length - Pictures Group')"
   ]
  },
  {
   "cell_type": "markdown",
   "id": "6ad20a5b-23e7-4a49-98a8-6ca371d0bbc6",
   "metadata": {},
   "source": [
    "*In order to differentiate noise from actual image data, we conducted an experiment three times where a single image was transmitted through a messaging group.<br>\n",
    "By analyzing the resulting packet size distributions, it was determined that packets smaller than 200 bytes in size did not contain any meaningful image data and could be classified as noise.* "
   ]
  },
  {
   "cell_type": "code",
   "execution_count": 274,
   "id": "a20f804c-970d-4ff2-bfe7-cb8a73930e9a",
   "metadata": {},
   "outputs": [],
   "source": [
    "picture_check1 = pd.read_csv(\"../resources/Picture threshold//picture_check1_data.csv\", encoding='latin-1')\n",
    "\n",
    "picture_check2 = pd.read_csv(\"../resources/Picture threshold/picture_check2_data.csv\", encoding='latin-1')\n",
    "\n",
    "picture_check3 = pd.read_csv(\"../resources/Picture threshold/picture_check3_data.csv\", encoding='latin-1')"
   ]
  },
  {
   "cell_type": "code",
   "execution_count": 279,
   "id": "fcfd6317-e240-4dbd-8dab-e77ef8f3f4ab",
   "metadata": {},
   "outputs": [
    {
     "data": {
      "image/png": "[encoded data removed]",
      "text/plain": [
       "<Figure size 936x288 with 3 Axes>"
      ]
     },
     "metadata": {
      "needs_background": "light"
     },
     "output_type": "display_data"
    }
   ],
   "source": [
    "fig, (ax1, ax2, ax3) = plt.subplots(1, 3, figsize=(13,4)) \n",
    "\n",
    "test1_time = picture_check1['Time']\n",
    "test1_length = picture_check1['Length']\n",
    "ax1.stem(test1_time, test1_length, linefmt ='black', markerfmt = '', basefmt='black')\n",
    "ax1.set_xlabel('Time')\n",
    "ax1.set_ylabel('Length')\n",
    "ax1.set_title('Picture Time vs Length (Test 1)')\n",
    "ax1.grid()\n",
    "\n",
    "\n",
    "test2_time = picture_check2['Time']\n",
    "test2_length = picture_check2['Length']\n",
    "ax2.stem(test2_time, test2_length, linefmt ='black', markerfmt = '', basefmt='black') \n",
    "ax2.set_xlabel('Time')\n",
    "ax2.set_ylabel('Length')\n",
    "ax2.set_title('Picture Time vs Length (Test 2)')\n",
    "ax2.grid()\n",
    "\n",
    "test3_time = picture_check3['Time']\n",
    "test3_length = picture_check3['Length']\n",
    "ax3.stem(test3_time, test3_length, linefmt ='black', markerfmt = '', basefmt='black') \n",
    "ax3.set_xlabel('Time')\n",
    "ax3.set_ylabel('Length')\n",
    "ax3.set_title('Picture Time vs Length (Test 3)')\n",
    "ax3.grid()\n",
    "\n",
    "fig.tight_layout()\n",
    "plt.savefig('../res/picture_treshold.png')\n",
    "plt.show()"
   ]
  },
  {
   "cell_type": "markdown",
   "id": "8424cb7d-2cfb-4316-9b86-94f2f1832732",
   "metadata": {},
   "source": [
    "The figure below visualizes the packet reception times and sizes after applying this noise filtration. <br>By removing the small noisy packets, the packets related to the pictures messages of interest become more visible.<br> The gaps between these columns represent the intervals between picture message send events, which are more apparent after noise filtering.<br>"
   ]
  },
  {
   "cell_type": "code",
   "execution_count": 276,
   "id": "080a1e67-6ff4-4f43-b19a-6fe85199c362",
   "metadata": {},
   "outputs": [
    {
     "data": {
      "image/png": "[encoded data removed]",
      "text/plain": [
       "<Figure size 1080x432 with 1 Axes>"
      ]
     },
     "metadata": {
      "needs_background": "light"
     },
     "output_type": "display_data"
    }
   ],
   "source": [
    "pictures_data = pictures_data.loc[pictures_data['Length'] > 200] \n",
    "plot_graph(pictures_data,'Time vs Length - Pictures Group After Noise Cleaning')"
   ]
  },
  {
   "cell_type": "code",
   "execution_count": 280,
   "id": "38393ef2",
   "metadata": {},
   "outputs": [
    {
     "data": {
      "image/png": "[encoded data removed]",
      "text/plain": [
       "<Figure size 432x216 with 1 Axes>"
      ]
     },
     "metadata": {
      "needs_background": "light"
     },
     "output_type": "display_data"
    }
   ],
   "source": [
    "plot_hist(pictures_data, 50, 'Histogram of Time Differences Picture Data')"
   ]
  },
  {
   "cell_type": "code",
   "execution_count": 281,
   "id": "d2687be8-a3c5-4b0f-b6e3-666d00131cb3",
   "metadata": {},
   "outputs": [
    {
     "data": {
      "image/png": "[encoded data removed]",
      "text/plain": [
       "<Figure size 432x216 with 1 Axes>"
      ]
     },
     "metadata": {
      "needs_background": "light"
     },
     "output_type": "display_data"
    }
   ],
   "source": [
    "bin_edges, pdf = compute_pdf(pictures_data, bins=100)\n",
    "visualize_interarrival_pdf(pictures_data, bin_edges, pdf)"
   ]
  },
  {
   "cell_type": "markdown",
   "id": "ab1a82d8-0c70-47e3-ac05-67c26e511ec2",
   "metadata": {},
   "source": [
    "### Video Group "
   ]
  },
  {
   "cell_type": "code",
   "execution_count": 282,
   "id": "0ad411a3-2329-42cd-b6fd-25e4188eae53",
   "metadata": {},
   "outputs": [
    {
     "data": {
      "text/html": [
       "<div>\n",
       "<style scoped>\n",
       "    .dataframe tbody tr th:only-of-type {\n",
       "        vertical-align: middle;\n",
       "    }\n",
       "\n",
       "    .dataframe tbody tr th {\n",
       "        vertical-align: top;\n",
       "    }\n",
       "\n",
       "    .dataframe thead th {\n",
       "        text-align: right;\n",
       "    }\n",
       "</style>\n",
       "<table border=\"1\" class=\"dataframe\">\n",
       "  <thead>\n",
       "    <tr style=\"text-align: right;\">\n",
       "      <th></th>\n",
       "      <th>No.</th>\n",
       "      <th>Time</th>\n",
       "      <th>Source</th>\n",
       "      <th>Destination</th>\n",
       "      <th>Protocol</th>\n",
       "      <th>Length</th>\n",
       "      <th>Info</th>\n",
       "    </tr>\n",
       "  </thead>\n",
       "  <tbody>\n",
       "    <tr>\n",
       "      <th>2</th>\n",
       "      <td>11</td>\n",
       "      <td>7.169559</td>\n",
       "      <td>2a03:2880:f242:c8:face:b00c:0:167</td>\n",
       "      <td>2a10:8012:21:4188:c63c:3614:4d2b:1483</td>\n",
       "      <td>TLSv1.2</td>\n",
       "      <td>159</td>\n",
       "      <td>Application Data</td>\n",
       "    </tr>\n",
       "    <tr>\n",
       "      <th>4</th>\n",
       "      <td>18</td>\n",
       "      <td>16.692309</td>\n",
       "      <td>2a03:2880:f242:c8:face:b00c:0:167</td>\n",
       "      <td>2a10:8012:21:4188:c63c:3614:4d2b:1483</td>\n",
       "      <td>TLSv1.2</td>\n",
       "      <td>2848</td>\n",
       "      <td>Application Data</td>\n",
       "    </tr>\n",
       "    <tr>\n",
       "      <th>6</th>\n",
       "      <td>20</td>\n",
       "      <td>16.692421</td>\n",
       "      <td>2a03:2880:f242:c8:face:b00c:0:167</td>\n",
       "      <td>2a10:8012:21:4188:c63c:3614:4d2b:1483</td>\n",
       "      <td>TLSv1.2</td>\n",
       "      <td>182</td>\n",
       "      <td>Application Data</td>\n",
       "    </tr>\n",
       "    <tr>\n",
       "      <th>12</th>\n",
       "      <td>27</td>\n",
       "      <td>29.901493</td>\n",
       "      <td>2a03:2880:f242:c8:face:b00c:0:167</td>\n",
       "      <td>2a10:8012:21:4188:c63c:3614:4d2b:1483</td>\n",
       "      <td>TLSv1.2</td>\n",
       "      <td>159</td>\n",
       "      <td>Application Data</td>\n",
       "    </tr>\n",
       "    <tr>\n",
       "      <th>14</th>\n",
       "      <td>56</td>\n",
       "      <td>47.412360</td>\n",
       "      <td>2a03:2880:f242:c8:face:b00c:0:167</td>\n",
       "      <td>2a10:8012:21:4188:c63c:3614:4d2b:1483</td>\n",
       "      <td>TLSv1.2</td>\n",
       "      <td>758</td>\n",
       "      <td>Application Data</td>\n",
       "    </tr>\n",
       "    <tr>\n",
       "      <th>...</th>\n",
       "      <td>...</td>\n",
       "      <td>...</td>\n",
       "      <td>...</td>\n",
       "      <td>...</td>\n",
       "      <td>...</td>\n",
       "      <td>...</td>\n",
       "      <td>...</td>\n",
       "    </tr>\n",
       "    <tr>\n",
       "      <th>991</th>\n",
       "      <td>1544</td>\n",
       "      <td>819.342999</td>\n",
       "      <td>2a03:2880:f242:c8:face:b00c:0:167</td>\n",
       "      <td>2a10:8012:21:4188:c63c:3614:4d2b:1483</td>\n",
       "      <td>TLSv1.2</td>\n",
       "      <td>2848</td>\n",
       "      <td>Application Data [TCP segment of a reassembled...</td>\n",
       "    </tr>\n",
       "    <tr>\n",
       "      <th>992</th>\n",
       "      <td>1545</td>\n",
       "      <td>819.342999</td>\n",
       "      <td>2a03:2880:f242:c8:face:b00c:0:167</td>\n",
       "      <td>2a10:8012:21:4188:c63c:3614:4d2b:1483</td>\n",
       "      <td>TLSv1.2</td>\n",
       "      <td>1693</td>\n",
       "      <td>Application Data</td>\n",
       "    </tr>\n",
       "    <tr>\n",
       "      <th>999</th>\n",
       "      <td>1555</td>\n",
       "      <td>823.642192</td>\n",
       "      <td>2a03:2880:f242:c8:face:b00c:0:167</td>\n",
       "      <td>2a10:8012:21:4188:c63c:3614:4d2b:1483</td>\n",
       "      <td>TLSv1.2</td>\n",
       "      <td>230</td>\n",
       "      <td>Application Data</td>\n",
       "    </tr>\n",
       "    <tr>\n",
       "      <th>1003</th>\n",
       "      <td>1559</td>\n",
       "      <td>824.050634</td>\n",
       "      <td>2a03:2880:f242:c8:face:b00c:0:167</td>\n",
       "      <td>2a10:8012:21:4188:c63c:3614:4d2b:1483</td>\n",
       "      <td>TLSv1.2</td>\n",
       "      <td>714</td>\n",
       "      <td>Application Data</td>\n",
       "    </tr>\n",
       "    <tr>\n",
       "      <th>1009</th>\n",
       "      <td>1565</td>\n",
       "      <td>829.272970</td>\n",
       "      <td>2a03:2880:f242:c8:face:b00c:0:167</td>\n",
       "      <td>2a10:8012:21:4188:c63c:3614:4d2b:1483</td>\n",
       "      <td>TLSv1.2</td>\n",
       "      <td>159</td>\n",
       "      <td>Application Data</td>\n",
       "    </tr>\n",
       "  </tbody>\n",
       "</table>\n",
       "<p>157 rows × 7 columns</p>\n",
       "</div>"
      ],
      "text/plain": [
       "       No.        Time                             Source  \\\n",
       "2       11    7.169559  2a03:2880:f242:c8:face:b00c:0:167   \n",
       "4       18   16.692309  2a03:2880:f242:c8:face:b00c:0:167   \n",
       "6       20   16.692421  2a03:2880:f242:c8:face:b00c:0:167   \n",
       "12      27   29.901493  2a03:2880:f242:c8:face:b00c:0:167   \n",
       "14      56   47.412360  2a03:2880:f242:c8:face:b00c:0:167   \n",
       "...    ...         ...                                ...   \n",
       "991   1544  819.342999  2a03:2880:f242:c8:face:b00c:0:167   \n",
       "992   1545  819.342999  2a03:2880:f242:c8:face:b00c:0:167   \n",
       "999   1555  823.642192  2a03:2880:f242:c8:face:b00c:0:167   \n",
       "1003  1559  824.050634  2a03:2880:f242:c8:face:b00c:0:167   \n",
       "1009  1565  829.272970  2a03:2880:f242:c8:face:b00c:0:167   \n",
       "\n",
       "                                Destination Protocol  Length  \\\n",
       "2     2a10:8012:21:4188:c63c:3614:4d2b:1483  TLSv1.2     159   \n",
       "4     2a10:8012:21:4188:c63c:3614:4d2b:1483  TLSv1.2    2848   \n",
       "6     2a10:8012:21:4188:c63c:3614:4d2b:1483  TLSv1.2     182   \n",
       "12    2a10:8012:21:4188:c63c:3614:4d2b:1483  TLSv1.2     159   \n",
       "14    2a10:8012:21:4188:c63c:3614:4d2b:1483  TLSv1.2     758   \n",
       "...                                     ...      ...     ...   \n",
       "991   2a10:8012:21:4188:c63c:3614:4d2b:1483  TLSv1.2    2848   \n",
       "992   2a10:8012:21:4188:c63c:3614:4d2b:1483  TLSv1.2    1693   \n",
       "999   2a10:8012:21:4188:c63c:3614:4d2b:1483  TLSv1.2     230   \n",
       "1003  2a10:8012:21:4188:c63c:3614:4d2b:1483  TLSv1.2     714   \n",
       "1009  2a10:8012:21:4188:c63c:3614:4d2b:1483  TLSv1.2     159   \n",
       "\n",
       "                                                   Info  \n",
       "2                                      Application Data  \n",
       "4                                      Application Data  \n",
       "6                                      Application Data  \n",
       "12                                     Application Data  \n",
       "14                                     Application Data  \n",
       "...                                                 ...  \n",
       "991   Application Data [TCP segment of a reassembled...  \n",
       "992                                    Application Data  \n",
       "999                                    Application Data  \n",
       "1003                                   Application Data  \n",
       "1009                                   Application Data  \n",
       "\n",
       "[157 rows x 7 columns]"
      ]
     },
     "execution_count": 282,
     "metadata": {},
     "output_type": "execute_result"
    }
   ],
   "source": [
    "video_data = pd.read_csv(\"../resources/Video Group/video_data.csv\", encoding='latin-1')\n",
    "\n",
    "video_data = video_data[video_data['Protocol'].str.contains('TLS')] \n",
    "\n",
    "video_data = filter_data_by_ip(video_data, '2a03:2880:f242:c8:face:b00c:0:167','2a10:8012:21:4188:c63c:3614:4d2b:1483')\n",
    "\n",
    "video_data"
   ]
  },
  {
   "cell_type": "code",
   "execution_count": 283,
   "id": "c599bd15-d9c9-4cbd-87f3-871d5191166a",
   "metadata": {},
   "outputs": [
    {
     "data": {
      "image/png": "[encoded data removed]",
      "text/plain": [
       "<Figure size 1080x432 with 1 Axes>"
      ]
     },
     "metadata": {
      "needs_background": "light"
     },
     "output_type": "display_data"
    }
   ],
   "source": [
    "plot_graph(video_data,'Time vs Length - Video Group')"
   ]
  },
  {
   "cell_type": "code",
   "execution_count": 284,
   "id": "911a8226",
   "metadata": {},
   "outputs": [
    {
     "data": {
      "image/png": "[encoded data removed]",
      "text/plain": [
       "<Figure size 432x216 with 1 Axes>"
      ]
     },
     "metadata": {
      "needs_background": "light"
     },
     "output_type": "display_data"
    }
   ],
   "source": [
    "plot_hist(video_data,30, 'Histogram of Time Differences voice data')"
   ]
  },
  {
   "cell_type": "code",
   "execution_count": 285,
   "id": "a777bd30",
   "metadata": {},
   "outputs": [
    {
     "data": {
      "image/png": "[encoded data removed]",
      "text/plain": [
       "<Figure size 432x216 with 1 Axes>"
      ]
     },
     "metadata": {
      "needs_background": "light"
     },
     "output_type": "display_data"
    }
   ],
   "source": [
    "bin_edges, pdf = compute_pdf(video_data, bins=100)\n",
    "visualize_interarrival_pdf(video_data, bin_edges, pdf)"
   ]
  },
  {
   "cell_type": "markdown",
   "id": "715a422a-1a7f-47a0-b48c-147f0dd8680b",
   "metadata": {},
   "source": [
    "*To characterize how video packets are transmitted, we performed an experiment where the same video file was sent repeatedly.<br>\n",
    "The video file was sent a total of 3 times, with 40 seconds of idle time in between each sending.<br>*\n",
    "*This allows us to observe how the packet sizes and timing behave for subsequent transmissions of the same file.<br>*\n",
    "\n",
    "*By repeating the transmission of the same file, we can analyze metrics like the distribution of packet sizes and intervals for a video file.<br> The idle time between sends allows us to clearly separate the packet information for each transmission.*"
   ]
  },
  {
   "cell_type": "code",
   "execution_count": 286,
   "id": "82c27411-ae74-43a1-b185-f18d35598d33",
   "metadata": {},
   "outputs": [
    {
     "data": {
      "image/png": "[encoded data removed]",
      "text/plain": [
       "<Figure size 1080x432 with 1 Axes>"
      ]
     },
     "metadata": {
      "needs_background": "light"
     },
     "output_type": "display_data"
    }
   ],
   "source": [
    "video_iterations = pd.read_csv(\"../resources/Video Group/same_video_iterations.csv\", encoding='latin-1')\n",
    "video_iterations = video_iterations[video_iterations['Protocol'].str.contains('TLS')] \n",
    "\n",
    "video_iterations = filter_data_by_ip(video_iterations,'2a03:2880:f258:1c3:face:b00c:0:167','2a00:a041:3c5d:4d00:424b:6377:a930:43d')\n",
    "\n",
    "plot_graph(video_iterations, 'Time vs Length - video_iterations')"
   ]
  },
  {
   "cell_type": "markdown",
   "id": "2d664e48-542d-4ecc-aefc-47a55f9a2d74",
   "metadata": {},
   "source": [
    "### Voice Group "
   ]
  },
  {
   "cell_type": "markdown",
   "id": "95b6bc58-815c-4aca-bf32-54cf22a02130",
   "metadata": {},
   "source": [
    "*The dataset contains recordings of voice messages from a specific group chat. Each voice recording lasted approximately 40 seconds on average. During the recordings, there was some background noise caused by other simultaneous group chats on the messaging platform. This unrelated chat traffic resulted in some small extraneous packets in the recordings.*\n",
    "\n",
    "*Upon inspection of the recordings, a wider column can be observed. This columns correspond to packets containing voice messages from the target group chat where multiple voice messages were sent in rapid succession, resulting in a cluster of voice message packets.*"
   ]
  },
  {
   "cell_type": "code",
   "execution_count": 287,
   "id": "6250644c-e62e-4a3a-86fb-48db18d8ab15",
   "metadata": {},
   "outputs": [
    {
     "data": {
      "text/html": [
       "<div>\n",
       "<style scoped>\n",
       "    .dataframe tbody tr th:only-of-type {\n",
       "        vertical-align: middle;\n",
       "    }\n",
       "\n",
       "    .dataframe tbody tr th {\n",
       "        vertical-align: top;\n",
       "    }\n",
       "\n",
       "    .dataframe thead th {\n",
       "        text-align: right;\n",
       "    }\n",
       "</style>\n",
       "<table border=\"1\" class=\"dataframe\">\n",
       "  <thead>\n",
       "    <tr style=\"text-align: right;\">\n",
       "      <th></th>\n",
       "      <th>No.</th>\n",
       "      <th>Time</th>\n",
       "      <th>Source</th>\n",
       "      <th>Destination</th>\n",
       "      <th>Protocol</th>\n",
       "      <th>Length</th>\n",
       "      <th>Info</th>\n",
       "    </tr>\n",
       "  </thead>\n",
       "  <tbody>\n",
       "    <tr>\n",
       "      <th>2</th>\n",
       "      <td>7</td>\n",
       "      <td>3.584574</td>\n",
       "      <td>2a03:2880:f242:c8:face:b00c:0:167</td>\n",
       "      <td>2a10:8012:21:4188:cd91:9afe:93c7:a048</td>\n",
       "      <td>TLSv1.2</td>\n",
       "      <td>159</td>\n",
       "      <td>Application Data</td>\n",
       "    </tr>\n",
       "    <tr>\n",
       "      <th>6</th>\n",
       "      <td>13</td>\n",
       "      <td>8.807516</td>\n",
       "      <td>2a03:2880:f242:c8:face:b00c:0:167</td>\n",
       "      <td>2a10:8012:21:4188:cd91:9afe:93c7:a048</td>\n",
       "      <td>TLSv1.2</td>\n",
       "      <td>198</td>\n",
       "      <td>Application Data</td>\n",
       "    </tr>\n",
       "    <tr>\n",
       "      <th>10</th>\n",
       "      <td>23</td>\n",
       "      <td>21.606745</td>\n",
       "      <td>2a03:2880:f242:c8:face:b00c:0:167</td>\n",
       "      <td>2a10:8012:21:4188:cd91:9afe:93c7:a048</td>\n",
       "      <td>TLSv1.2</td>\n",
       "      <td>159</td>\n",
       "      <td>Application Data</td>\n",
       "    </tr>\n",
       "    <tr>\n",
       "      <th>12</th>\n",
       "      <td>31</td>\n",
       "      <td>33.793551</td>\n",
       "      <td>2a03:2880:f242:c8:face:b00c:0:167</td>\n",
       "      <td>2a10:8012:21:4188:cd91:9afe:93c7:a048</td>\n",
       "      <td>TLSv1.2</td>\n",
       "      <td>903</td>\n",
       "      <td>Application Data</td>\n",
       "    </tr>\n",
       "    <tr>\n",
       "      <th>24</th>\n",
       "      <td>43</td>\n",
       "      <td>37.786442</td>\n",
       "      <td>2a03:2880:f242:c8:face:b00c:0:167</td>\n",
       "      <td>2a10:8012:21:4188:cd91:9afe:93c7:a048</td>\n",
       "      <td>TLSv1.2</td>\n",
       "      <td>159</td>\n",
       "      <td>Application Data</td>\n",
       "    </tr>\n",
       "    <tr>\n",
       "      <th>...</th>\n",
       "      <td>...</td>\n",
       "      <td>...</td>\n",
       "      <td>...</td>\n",
       "      <td>...</td>\n",
       "      <td>...</td>\n",
       "      <td>...</td>\n",
       "      <td>...</td>\n",
       "    </tr>\n",
       "    <tr>\n",
       "      <th>1244</th>\n",
       "      <td>1719</td>\n",
       "      <td>718.544720</td>\n",
       "      <td>2a03:2880:f242:c8:face:b00c:0:167</td>\n",
       "      <td>2a10:8012:21:4188:cd91:9afe:93c7:a048</td>\n",
       "      <td>TLSv1.2</td>\n",
       "      <td>159</td>\n",
       "      <td>Application Data</td>\n",
       "    </tr>\n",
       "    <tr>\n",
       "      <th>1246</th>\n",
       "      <td>1721</td>\n",
       "      <td>729.605322</td>\n",
       "      <td>2a03:2880:f242:c8:face:b00c:0:167</td>\n",
       "      <td>2a10:8012:21:4188:cd91:9afe:93c7:a048</td>\n",
       "      <td>TLSv1.2</td>\n",
       "      <td>967</td>\n",
       "      <td>Application Data</td>\n",
       "    </tr>\n",
       "    <tr>\n",
       "      <th>1250</th>\n",
       "      <td>1725</td>\n",
       "      <td>733.598589</td>\n",
       "      <td>2a03:2880:f242:c8:face:b00c:0:167</td>\n",
       "      <td>2a10:8012:21:4188:cd91:9afe:93c7:a048</td>\n",
       "      <td>TLSv1.2</td>\n",
       "      <td>181</td>\n",
       "      <td>Application Data</td>\n",
       "    </tr>\n",
       "    <tr>\n",
       "      <th>1256</th>\n",
       "      <td>1731</td>\n",
       "      <td>734.110267</td>\n",
       "      <td>2a03:2880:f242:c8:face:b00c:0:167</td>\n",
       "      <td>2a10:8012:21:4188:cd91:9afe:93c7:a048</td>\n",
       "      <td>TLSv1.2</td>\n",
       "      <td>159</td>\n",
       "      <td>Application Data</td>\n",
       "    </tr>\n",
       "    <tr>\n",
       "      <th>1258</th>\n",
       "      <td>1733</td>\n",
       "      <td>735.749495</td>\n",
       "      <td>2a03:2880:f242:c8:face:b00c:0:167</td>\n",
       "      <td>2a10:8012:21:4188:cd91:9afe:93c7:a048</td>\n",
       "      <td>TLSv1.2</td>\n",
       "      <td>365</td>\n",
       "      <td>Application Data</td>\n",
       "    </tr>\n",
       "  </tbody>\n",
       "</table>\n",
       "<p>105 rows × 7 columns</p>\n",
       "</div>"
      ],
      "text/plain": [
       "       No.        Time                             Source  \\\n",
       "2        7    3.584574  2a03:2880:f242:c8:face:b00c:0:167   \n",
       "6       13    8.807516  2a03:2880:f242:c8:face:b00c:0:167   \n",
       "10      23   21.606745  2a03:2880:f242:c8:face:b00c:0:167   \n",
       "12      31   33.793551  2a03:2880:f242:c8:face:b00c:0:167   \n",
       "24      43   37.786442  2a03:2880:f242:c8:face:b00c:0:167   \n",
       "...    ...         ...                                ...   \n",
       "1244  1719  718.544720  2a03:2880:f242:c8:face:b00c:0:167   \n",
       "1246  1721  729.605322  2a03:2880:f242:c8:face:b00c:0:167   \n",
       "1250  1725  733.598589  2a03:2880:f242:c8:face:b00c:0:167   \n",
       "1256  1731  734.110267  2a03:2880:f242:c8:face:b00c:0:167   \n",
       "1258  1733  735.749495  2a03:2880:f242:c8:face:b00c:0:167   \n",
       "\n",
       "                                Destination Protocol  Length              Info  \n",
       "2     2a10:8012:21:4188:cd91:9afe:93c7:a048  TLSv1.2     159  Application Data  \n",
       "6     2a10:8012:21:4188:cd91:9afe:93c7:a048  TLSv1.2     198  Application Data  \n",
       "10    2a10:8012:21:4188:cd91:9afe:93c7:a048  TLSv1.2     159  Application Data  \n",
       "12    2a10:8012:21:4188:cd91:9afe:93c7:a048  TLSv1.2     903  Application Data  \n",
       "24    2a10:8012:21:4188:cd91:9afe:93c7:a048  TLSv1.2     159  Application Data  \n",
       "...                                     ...      ...     ...               ...  \n",
       "1244  2a10:8012:21:4188:cd91:9afe:93c7:a048  TLSv1.2     159  Application Data  \n",
       "1246  2a10:8012:21:4188:cd91:9afe:93c7:a048  TLSv1.2     967  Application Data  \n",
       "1250  2a10:8012:21:4188:cd91:9afe:93c7:a048  TLSv1.2     181  Application Data  \n",
       "1256  2a10:8012:21:4188:cd91:9afe:93c7:a048  TLSv1.2     159  Application Data  \n",
       "1258  2a10:8012:21:4188:cd91:9afe:93c7:a048  TLSv1.2     365  Application Data  \n",
       "\n",
       "[105 rows x 7 columns]"
      ]
     },
     "execution_count": 287,
     "metadata": {},
     "output_type": "execute_result"
    }
   ],
   "source": [
    "voice_data = pd.read_csv(\"../resources/Adiuo Group/adiuo_data.csv\")\n",
    "\n",
    "voice_data = voice_data[voice_data['Protocol'].str.contains('TLS')] \n",
    "\n",
    "voice_data = filter_data_by_ip(voice_data,'2a03:2880:f242:c8:face:b00c:0:167','2a10:8012:21:4188:cd91:9afe:93c7:a048')\n",
    "\n",
    "voice_data"
   ]
  },
  {
   "cell_type": "code",
   "execution_count": 288,
   "id": "a87aa423-5303-4f7b-a699-1662f99c5bf6",
   "metadata": {},
   "outputs": [
    {
     "data": {
      "image/png": "[encoded data removed]",
      "text/plain": [
       "<Figure size 1080x432 with 1 Axes>"
      ]
     },
     "metadata": {
      "needs_background": "light"
     },
     "output_type": "display_data"
    }
   ],
   "source": [
    "plot_graph(voice_data, 'Time vs Length - Voice Group')"
   ]
  },
  {
   "cell_type": "code",
   "execution_count": 295,
   "id": "b7684706-6c47-441e-ab77-ec472cba9680",
   "metadata": {},
   "outputs": [
    {
     "data": {
      "image/png": "[encoded data removed]",
      "text/plain": [
       "<Figure size 432x216 with 1 Axes>"
      ]
     },
     "metadata": {
      "needs_background": "light"
     },
     "output_type": "display_data"
    }
   ],
   "source": [
    "plot_hist(voice_data , 35 ,'Histogram of Time Differences Voice Data')"
   ]
  },
  {
   "cell_type": "code",
   "execution_count": 290,
   "id": "b2627472",
   "metadata": {},
   "outputs": [
    {
     "data": {
      "image/png": "[encoded data removed]",
      "text/plain": [
       "<Figure size 432x216 with 1 Axes>"
      ]
     },
     "metadata": {
      "needs_background": "light"
     },
     "output_type": "display_data"
    }
   ],
   "source": [
    "bin_edges, pdf = compute_pdf(voice_data, bins=100)\n",
    "visualize_interarrival_pdf(voice_data, bin_edges, pdf)"
   ]
  },
  {
   "cell_type": "markdown",
   "id": "1d080e20-c755-4fe4-b634-2a3b4346f421",
   "metadata": {},
   "source": [
    "### Text Group"
   ]
  },
  {
   "cell_type": "markdown",
   "id": "e610036c",
   "metadata": {},
   "source": [
    "This dataset contains a series of messages of varying lengths. Upon examination, it is evident that some messages contain fewer characters while others are more extensive in their content. The variation in message length is likely indicative of the diverse purposes and contexts of communication. Shorter messages may serve as brief confirmations or acknowledgments, while lengthier text suggests more detailed discussions or the sharing of substantive information. Further analysis of message length distribution could provide useful insights into typical communication patterns and inform efforts to tailor messaging capabilities to user needs. "
   ]
  },
  {
   "cell_type": "code",
   "execution_count": 243,
   "id": "8538a507-864c-431d-8deb-fa17e2e5f0a8",
   "metadata": {},
   "outputs": [
    {
     "data": {
      "text/html": [
       "<div>\n",
       "<style scoped>\n",
       "    .dataframe tbody tr th:only-of-type {\n",
       "        vertical-align: middle;\n",
       "    }\n",
       "\n",
       "    .dataframe tbody tr th {\n",
       "        vertical-align: top;\n",
       "    }\n",
       "\n",
       "    .dataframe thead th {\n",
       "        text-align: right;\n",
       "    }\n",
       "</style>\n",
       "<table border=\"1\" class=\"dataframe\">\n",
       "  <thead>\n",
       "    <tr style=\"text-align: right;\">\n",
       "      <th></th>\n",
       "      <th>No.</th>\n",
       "      <th>Time</th>\n",
       "      <th>Source</th>\n",
       "      <th>Destination</th>\n",
       "      <th>Protocol</th>\n",
       "      <th>Length</th>\n",
       "      <th>Info</th>\n",
       "    </tr>\n",
       "  </thead>\n",
       "  <tbody>\n",
       "    <tr>\n",
       "      <th>0</th>\n",
       "      <td>1</td>\n",
       "      <td>0.000000</td>\n",
       "      <td>2a03:2880:f258:c8:face:b00c:0:167</td>\n",
       "      <td>2a00:a041:3c5d:4d00:b981:f170:feac:7cf9</td>\n",
       "      <td>TLSv1.2</td>\n",
       "      <td>176</td>\n",
       "      <td>Application Data</td>\n",
       "    </tr>\n",
       "    <tr>\n",
       "      <th>3</th>\n",
       "      <td>5</td>\n",
       "      <td>7.679440</td>\n",
       "      <td>2a03:2880:f258:c8:face:b00c:0:167</td>\n",
       "      <td>2a00:a041:3c5d:4d00:b981:f170:feac:7cf9</td>\n",
       "      <td>TLSv1.2</td>\n",
       "      <td>429</td>\n",
       "      <td>Application Data</td>\n",
       "    </tr>\n",
       "    <tr>\n",
       "      <th>6</th>\n",
       "      <td>8</td>\n",
       "      <td>7.767061</td>\n",
       "      <td>2a03:2880:f258:c8:face:b00c:0:167</td>\n",
       "      <td>2a00:a041:3c5d:4d00:b981:f170:feac:7cf9</td>\n",
       "      <td>TLSv1.2</td>\n",
       "      <td>407</td>\n",
       "      <td>Application Data</td>\n",
       "    </tr>\n",
       "    <tr>\n",
       "      <th>9</th>\n",
       "      <td>11</td>\n",
       "      <td>8.702466</td>\n",
       "      <td>2a03:2880:f258:c8:face:b00c:0:167</td>\n",
       "      <td>2a00:a041:3c5d:4d00:b981:f170:feac:7cf9</td>\n",
       "      <td>TLSv1.2</td>\n",
       "      <td>185</td>\n",
       "      <td>Application Data</td>\n",
       "    </tr>\n",
       "    <tr>\n",
       "      <th>16</th>\n",
       "      <td>22</td>\n",
       "      <td>25.709004</td>\n",
       "      <td>2a03:2880:f258:c8:face:b00c:0:167</td>\n",
       "      <td>2a00:a041:3c5d:4d00:b981:f170:feac:7cf9</td>\n",
       "      <td>TLSv1.2</td>\n",
       "      <td>160</td>\n",
       "      <td>Application Data</td>\n",
       "    </tr>\n",
       "    <tr>\n",
       "      <th>...</th>\n",
       "      <td>...</td>\n",
       "      <td>...</td>\n",
       "      <td>...</td>\n",
       "      <td>...</td>\n",
       "      <td>...</td>\n",
       "      <td>...</td>\n",
       "      <td>...</td>\n",
       "    </tr>\n",
       "    <tr>\n",
       "      <th>1798</th>\n",
       "      <td>2177</td>\n",
       "      <td>597.510145</td>\n",
       "      <td>2a03:2880:f258:c8:face:b00c:0:167</td>\n",
       "      <td>2a00:a041:3c5d:4d00:b981:f170:feac:7cf9</td>\n",
       "      <td>TLSv1.2</td>\n",
       "      <td>183</td>\n",
       "      <td>Application Data</td>\n",
       "    </tr>\n",
       "    <tr>\n",
       "      <th>1806</th>\n",
       "      <td>2186</td>\n",
       "      <td>604.388698</td>\n",
       "      <td>2a03:2880:f258:c8:face:b00c:0:167</td>\n",
       "      <td>2a00:a041:3c5d:4d00:b981:f170:feac:7cf9</td>\n",
       "      <td>TLSv1.2</td>\n",
       "      <td>160</td>\n",
       "      <td>Application Data</td>\n",
       "    </tr>\n",
       "    <tr>\n",
       "      <th>1810</th>\n",
       "      <td>2199</td>\n",
       "      <td>621.995717</td>\n",
       "      <td>2a03:2880:f258:c8:face:b00c:0:167</td>\n",
       "      <td>2a00:a041:3c5d:4d00:b981:f170:feac:7cf9</td>\n",
       "      <td>TLSv1.2</td>\n",
       "      <td>160</td>\n",
       "      <td>Application Data</td>\n",
       "    </tr>\n",
       "    <tr>\n",
       "      <th>1814</th>\n",
       "      <td>2203</td>\n",
       "      <td>627.309782</td>\n",
       "      <td>2a03:2880:f258:c8:face:b00c:0:167</td>\n",
       "      <td>2a00:a041:3c5d:4d00:b981:f170:feac:7cf9</td>\n",
       "      <td>TLSv1.2</td>\n",
       "      <td>424</td>\n",
       "      <td>Application Data, Application Data</td>\n",
       "    </tr>\n",
       "    <tr>\n",
       "      <th>1816</th>\n",
       "      <td>2205</td>\n",
       "      <td>627.718916</td>\n",
       "      <td>2a03:2880:f258:c8:face:b00c:0:167</td>\n",
       "      <td>2a00:a041:3c5d:4d00:b981:f170:feac:7cf9</td>\n",
       "      <td>TLSv1.2</td>\n",
       "      <td>229</td>\n",
       "      <td>Application Data</td>\n",
       "    </tr>\n",
       "  </tbody>\n",
       "</table>\n",
       "<p>181 rows × 7 columns</p>\n",
       "</div>"
      ],
      "text/plain": [
       "       No.        Time                             Source  \\\n",
       "0        1    0.000000  2a03:2880:f258:c8:face:b00c:0:167   \n",
       "3        5    7.679440  2a03:2880:f258:c8:face:b00c:0:167   \n",
       "6        8    7.767061  2a03:2880:f258:c8:face:b00c:0:167   \n",
       "9       11    8.702466  2a03:2880:f258:c8:face:b00c:0:167   \n",
       "16      22   25.709004  2a03:2880:f258:c8:face:b00c:0:167   \n",
       "...    ...         ...                                ...   \n",
       "1798  2177  597.510145  2a03:2880:f258:c8:face:b00c:0:167   \n",
       "1806  2186  604.388698  2a03:2880:f258:c8:face:b00c:0:167   \n",
       "1810  2199  621.995717  2a03:2880:f258:c8:face:b00c:0:167   \n",
       "1814  2203  627.309782  2a03:2880:f258:c8:face:b00c:0:167   \n",
       "1816  2205  627.718916  2a03:2880:f258:c8:face:b00c:0:167   \n",
       "\n",
       "                                  Destination Protocol  Length  \\\n",
       "0     2a00:a041:3c5d:4d00:b981:f170:feac:7cf9  TLSv1.2     176   \n",
       "3     2a00:a041:3c5d:4d00:b981:f170:feac:7cf9  TLSv1.2     429   \n",
       "6     2a00:a041:3c5d:4d00:b981:f170:feac:7cf9  TLSv1.2     407   \n",
       "9     2a00:a041:3c5d:4d00:b981:f170:feac:7cf9  TLSv1.2     185   \n",
       "16    2a00:a041:3c5d:4d00:b981:f170:feac:7cf9  TLSv1.2     160   \n",
       "...                                       ...      ...     ...   \n",
       "1798  2a00:a041:3c5d:4d00:b981:f170:feac:7cf9  TLSv1.2     183   \n",
       "1806  2a00:a041:3c5d:4d00:b981:f170:feac:7cf9  TLSv1.2     160   \n",
       "1810  2a00:a041:3c5d:4d00:b981:f170:feac:7cf9  TLSv1.2     160   \n",
       "1814  2a00:a041:3c5d:4d00:b981:f170:feac:7cf9  TLSv1.2     424   \n",
       "1816  2a00:a041:3c5d:4d00:b981:f170:feac:7cf9  TLSv1.2     229   \n",
       "\n",
       "                                    Info  \n",
       "0                       Application Data  \n",
       "3                       Application Data  \n",
       "6                       Application Data  \n",
       "9                       Application Data  \n",
       "16                      Application Data  \n",
       "...                                  ...  \n",
       "1798                    Application Data  \n",
       "1806                    Application Data  \n",
       "1810                    Application Data  \n",
       "1814  Application Data, Application Data  \n",
       "1816                    Application Data  \n",
       "\n",
       "[181 rows x 7 columns]"
      ]
     },
     "execution_count": 243,
     "metadata": {},
     "output_type": "execute_result"
    }
   ],
   "source": [
    "text_data = pd.read_csv(\"../resources/Text Group/text_data.csv\", encoding='latin-1')\n",
    "\n",
    "text_data = text_data[text_data['Protocol'].str.contains('TLS')] \n",
    "\n",
    "text_data = filter_data_by_ip(text_data, '2a03:2880:f258:c8:face:b00c:0:167', '2a00:a041:3c5d:4d00:b981:f170:feac:7cf9')\n",
    "\n",
    "text_data"
   ]
  },
  {
   "cell_type": "code",
   "execution_count": 244,
   "id": "9d85ed32-5cfa-4715-8dd2-394d7689598b",
   "metadata": {},
   "outputs": [
    {
     "data": {
      "image/png": "[encoded data removed]",
      "text/plain": [
       "<Figure size 1080x432 with 1 Axes>"
      ]
     },
     "metadata": {
      "needs_background": "light"
     },
     "output_type": "display_data"
    }
   ],
   "source": [
    "plot_graph(text_data, 'Time vs Length - Text Group')"
   ]
  },
  {
   "cell_type": "markdown",
   "id": "ad777727-926e-42eb-bb54-f3eb74289608",
   "metadata": {},
   "source": [
    "*To determine which data can be considered noise and filtered out,<br>\n",
    "we conducted an experiment where we recorded the transmission of the smallest message size within the group.<br>\n",
    "This experiment was performed twice, in two separate trials.*\n",
    "\n",
    "*The data graphs from the experiment showed that any packets with a size less than 200 bytes were extraneous to the message transmission.<br> Based on these results, we can conclude that packets under 200 bytes can be assumed to be network noise unrelated to the core messages.<br> Therefore, packets smaller than 200 bytes can be safely filtered out without losing meaningful message data.*"
   ]
  },
  {
   "cell_type": "code",
   "execution_count": 296,
   "id": "23056611-25a7-4472-9c69-ee3018c6bf74",
   "metadata": {},
   "outputs": [],
   "source": [
    "smallest_text_check1 = pd.read_csv(\"../resources/Text Group/smallest_text_data_first.csv\", encoding='latin-1')\n",
    "smallest_text_check1 = filter_data_by_ip(smallest_text_check1, '2a03:2880:f258:1c3:face:b00c:0:167','2a00:a041:3c5d:4d00:424b:6377:a930:43d')\n",
    "\n",
    "smallest_text_check2 = pd.read_csv(\"../resources/Text Group/smallest_text_data_second.csv\", encoding='latin-1')\n",
    "smallest_text_check2 = filter_data_by_ip(smallest_text_check1, '2a03:2880:f258:1c3:face:b00c:0:167','2a00:a041:3c5d:4d00:424b:6377:a930:43d')\n"
   ]
  },
  {
   "cell_type": "code",
   "execution_count": 298,
   "id": "661a68e1-7ba2-4b59-a0b6-86ca24645f29",
   "metadata": {},
   "outputs": [
    {
     "data": {
      "image/png": "[encoded data removed]",
      "text/plain": [
       "<Figure size 720x216 with 2 Axes>"
      ]
     },
     "metadata": {
      "needs_background": "light"
     },
     "output_type": "display_data"
    }
   ],
   "source": [
    "fig, (ax1, ax2) = plt.subplots(1, 2, figsize=(10,3)) \n",
    "\n",
    "test1_time = smallest_text_check1['Time']\n",
    "test1_length = smallest_text_check1['Length']\n",
    "ax1.stem(test1_time, test1_length, linefmt ='black', markerfmt = '.', basefmt='black')\n",
    "ax1.set_xlabel('Time')\n",
    "ax1.set_ylabel('Length')\n",
    "ax1.set_title('Text Time vs Length (Test 1)')\n",
    "ax1.grid()\n",
    "\n",
    "test2_time = smallest_text_check2['Time']\n",
    "test2_length = smallest_text_check2['Length']\n",
    "ax2.stem(test2_time, test2_length, linefmt ='black', markerfmt = '.', basefmt='black') \n",
    "ax2.set_xlabel('Time')\n",
    "ax2.set_ylabel('Length')\n",
    "ax2.set_title('Text Time vs Length (Test 2)')\n",
    "ax2.grid()\n",
    "fig.tight_layout()\n",
    "plt.show()"
   ]
  },
  {
   "cell_type": "code",
   "execution_count": 299,
   "id": "1160ed73-4f14-42f2-a6ca-533fb1e25da1",
   "metadata": {},
   "outputs": [
    {
     "data": {
      "image/png": "[encoded data removed]",
      "text/plain": [
       "<Figure size 432x216 with 1 Axes>"
      ]
     },
     "metadata": {
      "needs_background": "light"
     },
     "output_type": "display_data"
    }
   ],
   "source": [
    "plot_hist(text_data, 30, 'Histogram of Time Differences text data')"
   ]
  },
  {
   "cell_type": "code",
   "execution_count": 300,
   "id": "54dc2010-ab44-49d3-ab2b-044ff633ebf8",
   "metadata": {},
   "outputs": [
    {
     "data": {
      "image/png": "[encoded data removed]",
      "text/plain": [
       "<Figure size 432x216 with 1 Axes>"
      ]
     },
     "metadata": {
      "needs_background": "light"
     },
     "output_type": "display_data"
    }
   ],
   "source": [
    "bin_edges, pdf = compute_pdf(text_data, bins=100)\n",
    "visualize_interarrival_pdf(text_data, bin_edges, pdf)"
   ]
  },
  {
   "cell_type": "markdown",
   "id": "361b787b",
   "metadata": {},
   "source": [
    "Having thoroughly analyzed individual group communication patterns, examination will now expand to simultaneous multi-group data transfers.\n",
    "\n",
    "The first methodology involves serial transmission - sending videos, followed by batched images, and finally clustered text messages. This structured sequencing will establish behavioral baselines.\n",
    "\n",
    "The second approach entails non-serial distribution with additional voice messages and files. Leveraging insights from the serialized transfer, analysis of the more robust dataset can deduce trends for each media type based on the column height signatures.\n",
    "\n",
    "Together, these paired methodologies progress monitoring from isolated group investigation to complex multi-group interactions. The phased introduction of variables through controlled serial transfers, followed by diverse non-serial blending, provides a strong foundation for holistic characterization.\n"
   ]
  },
  {
   "cell_type": "markdown",
   "id": "12147cd3-4778-4b21-bf03-19eb35016a46",
   "metadata": {},
   "source": [
    "### Mix data - Serial transmission"
   ]
  },
  {
   "cell_type": "code",
   "execution_count": 310,
   "id": "b352fbc7-ee64-45fe-8845-d2510976ee1b",
   "metadata": {},
   "outputs": [
    {
     "data": {
      "text/html": [
       "<div>\n",
       "<style scoped>\n",
       "    .dataframe tbody tr th:only-of-type {\n",
       "        vertical-align: middle;\n",
       "    }\n",
       "\n",
       "    .dataframe tbody tr th {\n",
       "        vertical-align: top;\n",
       "    }\n",
       "\n",
       "    .dataframe thead th {\n",
       "        text-align: right;\n",
       "    }\n",
       "</style>\n",
       "<table border=\"1\" class=\"dataframe\">\n",
       "  <thead>\n",
       "    <tr style=\"text-align: right;\">\n",
       "      <th></th>\n",
       "      <th>No.</th>\n",
       "      <th>Time</th>\n",
       "      <th>Source</th>\n",
       "      <th>Destination</th>\n",
       "      <th>Protocol</th>\n",
       "      <th>Length</th>\n",
       "      <th>Info</th>\n",
       "    </tr>\n",
       "  </thead>\n",
       "  <tbody>\n",
       "    <tr>\n",
       "      <th>0</th>\n",
       "      <td>1</td>\n",
       "      <td>0.000000</td>\n",
       "      <td>2a03:2880:f258:1c3:face:b00c:0:167</td>\n",
       "      <td>2a00:a041:3c5d:4d00:b981:f170:feac:7cf9</td>\n",
       "      <td>TLSv1.2</td>\n",
       "      <td>230</td>\n",
       "      <td>Application Data</td>\n",
       "    </tr>\n",
       "    <tr>\n",
       "      <th>2</th>\n",
       "      <td>3</td>\n",
       "      <td>0.413747</td>\n",
       "      <td>2a00:a041:3c5d:4d00:b981:f170:feac:7cf9</td>\n",
       "      <td>2a03:2880:f258:1c3:face:b00c:0:167</td>\n",
       "      <td>TLSv1.2</td>\n",
       "      <td>163</td>\n",
       "      <td>Application Data</td>\n",
       "    </tr>\n",
       "    <tr>\n",
       "      <th>4</th>\n",
       "      <td>7</td>\n",
       "      <td>6.629572</td>\n",
       "      <td>2a00:a041:3c5d:4d00:b981:f170:feac:7cf9</td>\n",
       "      <td>2a03:2880:f258:1c3:face:b00c:0:167</td>\n",
       "      <td>TLSv1.2</td>\n",
       "      <td>158</td>\n",
       "      <td>Application Data</td>\n",
       "    </tr>\n",
       "    <tr>\n",
       "      <th>6</th>\n",
       "      <td>9</td>\n",
       "      <td>6.790799</td>\n",
       "      <td>2a03:2880:f258:1c3:face:b00c:0:167</td>\n",
       "      <td>2a00:a041:3c5d:4d00:b981:f170:feac:7cf9</td>\n",
       "      <td>TLSv1.2</td>\n",
       "      <td>160</td>\n",
       "      <td>Application Data</td>\n",
       "    </tr>\n",
       "    <tr>\n",
       "      <th>8</th>\n",
       "      <td>21</td>\n",
       "      <td>21.606103</td>\n",
       "      <td>2a03:2880:f258:1c3:face:b00c:0:167</td>\n",
       "      <td>2a00:a041:3c5d:4d00:b981:f170:feac:7cf9</td>\n",
       "      <td>TLSv1.2</td>\n",
       "      <td>891</td>\n",
       "      <td>Application Data</td>\n",
       "    </tr>\n",
       "    <tr>\n",
       "      <th>...</th>\n",
       "      <td>...</td>\n",
       "      <td>...</td>\n",
       "      <td>...</td>\n",
       "      <td>...</td>\n",
       "      <td>...</td>\n",
       "      <td>...</td>\n",
       "      <td>...</td>\n",
       "    </tr>\n",
       "    <tr>\n",
       "      <th>3160</th>\n",
       "      <td>3789</td>\n",
       "      <td>827.190510</td>\n",
       "      <td>2a03:2880:f258:1c3:face:b00c:0:167</td>\n",
       "      <td>2a00:a041:3c5d:4d00:b981:f170:feac:7cf9</td>\n",
       "      <td>TLSv1.2</td>\n",
       "      <td>304</td>\n",
       "      <td>Application Data</td>\n",
       "    </tr>\n",
       "    <tr>\n",
       "      <th>3162</th>\n",
       "      <td>3791</td>\n",
       "      <td>827.297142</td>\n",
       "      <td>2a00:a041:3c5d:4d00:b981:f170:feac:7cf9</td>\n",
       "      <td>2a03:2880:f258:1c3:face:b00c:0:167</td>\n",
       "      <td>TLSv1.2</td>\n",
       "      <td>182</td>\n",
       "      <td>Application Data</td>\n",
       "    </tr>\n",
       "    <tr>\n",
       "      <th>3163</th>\n",
       "      <td>3792</td>\n",
       "      <td>827.365330</td>\n",
       "      <td>2a00:a041:3c5d:4d00:b981:f170:feac:7cf9</td>\n",
       "      <td>2a03:2880:f258:1c3:face:b00c:0:167</td>\n",
       "      <td>TLSv1.2</td>\n",
       "      <td>163</td>\n",
       "      <td>Application Data</td>\n",
       "    </tr>\n",
       "    <tr>\n",
       "      <th>3166</th>\n",
       "      <td>3795</td>\n",
       "      <td>828.993511</td>\n",
       "      <td>2a00:a041:3c5d:4d00:b981:f170:feac:7cf9</td>\n",
       "      <td>2a03:2880:f258:1c3:face:b00c:0:167</td>\n",
       "      <td>TLSv1.2</td>\n",
       "      <td>158</td>\n",
       "      <td>Application Data</td>\n",
       "    </tr>\n",
       "    <tr>\n",
       "      <th>3168</th>\n",
       "      <td>3797</td>\n",
       "      <td>829.153363</td>\n",
       "      <td>2a03:2880:f258:1c3:face:b00c:0:167</td>\n",
       "      <td>2a00:a041:3c5d:4d00:b981:f170:feac:7cf9</td>\n",
       "      <td>TLSv1.2</td>\n",
       "      <td>160</td>\n",
       "      <td>Application Data</td>\n",
       "    </tr>\n",
       "  </tbody>\n",
       "</table>\n",
       "<p>993 rows × 7 columns</p>\n",
       "</div>"
      ],
      "text/plain": [
       "       No.        Time                                   Source  \\\n",
       "0        1    0.000000       2a03:2880:f258:1c3:face:b00c:0:167   \n",
       "2        3    0.413747  2a00:a041:3c5d:4d00:b981:f170:feac:7cf9   \n",
       "4        7    6.629572  2a00:a041:3c5d:4d00:b981:f170:feac:7cf9   \n",
       "6        9    6.790799       2a03:2880:f258:1c3:face:b00c:0:167   \n",
       "8       21   21.606103       2a03:2880:f258:1c3:face:b00c:0:167   \n",
       "...    ...         ...                                      ...   \n",
       "3160  3789  827.190510       2a03:2880:f258:1c3:face:b00c:0:167   \n",
       "3162  3791  827.297142  2a00:a041:3c5d:4d00:b981:f170:feac:7cf9   \n",
       "3163  3792  827.365330  2a00:a041:3c5d:4d00:b981:f170:feac:7cf9   \n",
       "3166  3795  828.993511  2a00:a041:3c5d:4d00:b981:f170:feac:7cf9   \n",
       "3168  3797  829.153363       2a03:2880:f258:1c3:face:b00c:0:167   \n",
       "\n",
       "                                  Destination Protocol  Length  \\\n",
       "0     2a00:a041:3c5d:4d00:b981:f170:feac:7cf9  TLSv1.2     230   \n",
       "2          2a03:2880:f258:1c3:face:b00c:0:167  TLSv1.2     163   \n",
       "4          2a03:2880:f258:1c3:face:b00c:0:167  TLSv1.2     158   \n",
       "6     2a00:a041:3c5d:4d00:b981:f170:feac:7cf9  TLSv1.2     160   \n",
       "8     2a00:a041:3c5d:4d00:b981:f170:feac:7cf9  TLSv1.2     891   \n",
       "...                                       ...      ...     ...   \n",
       "3160  2a00:a041:3c5d:4d00:b981:f170:feac:7cf9  TLSv1.2     304   \n",
       "3162       2a03:2880:f258:1c3:face:b00c:0:167  TLSv1.2     182   \n",
       "3163       2a03:2880:f258:1c3:face:b00c:0:167  TLSv1.2     163   \n",
       "3166       2a03:2880:f258:1c3:face:b00c:0:167  TLSv1.2     158   \n",
       "3168  2a00:a041:3c5d:4d00:b981:f170:feac:7cf9  TLSv1.2     160   \n",
       "\n",
       "                  Info  \n",
       "0     Application Data  \n",
       "2     Application Data  \n",
       "4     Application Data  \n",
       "6     Application Data  \n",
       "8     Application Data  \n",
       "...                ...  \n",
       "3160  Application Data  \n",
       "3162  Application Data  \n",
       "3163  Application Data  \n",
       "3166  Application Data  \n",
       "3168  Application Data  \n",
       "\n",
       "[993 rows x 7 columns]"
      ]
     },
     "execution_count": 310,
     "metadata": {},
     "output_type": "execute_result"
    }
   ],
   "source": [
    "mix_data = pd.read_csv(\"../resources/Mix data Group/mix_data.csv\", encoding='latin-1')\n",
    "mix_data = mix_data[mix_data['Protocol'].str.contains('TLS')] \n",
    "mix_data"
   ]
  },
  {
   "cell_type": "code",
   "execution_count": 311,
   "id": "d872edaf-820f-4a58-9d30-1a17decd1719",
   "metadata": {},
   "outputs": [
    {
     "data": {
      "image/png": "[encoded data removed]",
      "text/plain": [
       "<Figure size 1080x432 with 1 Axes>"
      ]
     },
     "metadata": {
      "needs_background": "light"
     },
     "output_type": "display_data"
    }
   ],
   "source": [
    "mix_data_filter = mix_data.loc[\n",
    "    (mix_data['Source'] == '2a03:2880:f258:1c3:face:b00c:0:167') & \n",
    "    (mix_data['Destination'] == '2a00:a041:3c5d:4d00:b981:f170:feac:7cf9')\n",
    "]\n",
    "\n",
    "plot_graph(mix_data, 'Time vs Length - mix data')"
   ]
  },
  {
   "cell_type": "markdown",
   "id": "289da579-6aa5-4a15-afeb-f6825daf4bee",
   "metadata": {},
   "source": [
    "*The figure shows the unlabeled raw packet data in red, with packets transmitted from WhatsApp server to our computer highlighted in red.*\n",
    "*Upon close inspection, identifiable patterns emerge corresponding to each data type.*\n",
    "\n",
    "\n",
    "*The video file is expressed in one large packet. The group of photos similarly shows up as a cluster of large blue packets following each video segment. Finally, the short text messages appear as a dense block-like bundle of smaller blue packets after each photo bundle.*\n",
    "\n",
    "*By coloring a known sequence, we can start to recognize data-type-specific patterns in the raw packet streams. Videos yield large, sparse blue packet while photos cluster into dense blue blocks. Short textual messages emerge as a blue block-like bundle of smaller packets. With further analysis, these fingerprints could help identify unknown data types and sequences within messy raw packet streams.*"
   ]
  },
  {
   "cell_type": "code",
   "execution_count": 303,
   "id": "e7533e14-e404-4ef1-9a90-f99358f4a018",
   "metadata": {},
   "outputs": [
    {
     "data": {
      "image/png": "[encoded data removed]",
      "text/plain": [
       "<Figure size 1080x432 with 1 Axes>"
      ]
     },
     "metadata": {
      "needs_background": "light"
     },
     "output_type": "display_data"
    }
   ],
   "source": [
    "plot_main_and_sub_graph(mix_data, mix_data_filter, 'Comparison of Whole Dataset and Desired Subset - Mix Data','Total Data','Desired Data')"
   ]
  },
  {
   "cell_type": "code",
   "execution_count": 312,
   "id": "f2c783c1-39cb-44b6-8026-23acaf19e7cb",
   "metadata": {},
   "outputs": [
    {
     "data": {
      "image/png": "[encoded data removed]",
      "text/plain": [
       "<Figure size 432x216 with 1 Axes>"
      ]
     },
     "metadata": {
      "needs_background": "light"
     },
     "output_type": "display_data"
    }
   ],
   "source": [
    "plot_hist(mix_data, 20, 'Histogram of Time Differences Mix Data')"
   ]
  },
  {
   "cell_type": "markdown",
   "id": "651336bc",
   "metadata": {},
   "source": [
    "### Mix data - Non Serial transmission"
   ]
  },
  {
   "cell_type": "code",
   "execution_count": 318,
   "id": "f3fb7cc4-f680-468e-942b-d7a18663a28e",
   "metadata": {
    "scrolled": false
   },
   "outputs": [
    {
     "data": {
      "text/html": [
       "<div>\n",
       "<style scoped>\n",
       "    .dataframe tbody tr th:only-of-type {\n",
       "        vertical-align: middle;\n",
       "    }\n",
       "\n",
       "    .dataframe tbody tr th {\n",
       "        vertical-align: top;\n",
       "    }\n",
       "\n",
       "    .dataframe thead th {\n",
       "        text-align: right;\n",
       "    }\n",
       "</style>\n",
       "<table border=\"1\" class=\"dataframe\">\n",
       "  <thead>\n",
       "    <tr style=\"text-align: right;\">\n",
       "      <th></th>\n",
       "      <th>No.</th>\n",
       "      <th>Time</th>\n",
       "      <th>Source</th>\n",
       "      <th>Destination</th>\n",
       "      <th>Protocol</th>\n",
       "      <th>Length</th>\n",
       "      <th>Info</th>\n",
       "    </tr>\n",
       "  </thead>\n",
       "  <tbody>\n",
       "    <tr>\n",
       "      <th>0</th>\n",
       "      <td>3</td>\n",
       "      <td>1.126085</td>\n",
       "      <td>2a03:2880:f242:c8:face:b00c:0:167</td>\n",
       "      <td>2a10:8012:21:4188:cdf4:35bf:f239:2701</td>\n",
       "      <td>TLSv1.2</td>\n",
       "      <td>380</td>\n",
       "      <td>Application Data</td>\n",
       "    </tr>\n",
       "    <tr>\n",
       "      <th>4</th>\n",
       "      <td>7</td>\n",
       "      <td>6.860832</td>\n",
       "      <td>2a03:2880:f242:c8:face:b00c:0:167</td>\n",
       "      <td>2a10:8012:21:4188:cdf4:35bf:f239:2701</td>\n",
       "      <td>TLSv1.2</td>\n",
       "      <td>364</td>\n",
       "      <td>Application Data</td>\n",
       "    </tr>\n",
       "    <tr>\n",
       "      <th>10</th>\n",
       "      <td>16</td>\n",
       "      <td>18.679773</td>\n",
       "      <td>2a03:2880:f242:c8:face:b00c:0:167</td>\n",
       "      <td>2a10:8012:21:4188:cdf4:35bf:f239:2701</td>\n",
       "      <td>TLSv1.2</td>\n",
       "      <td>158</td>\n",
       "      <td>Application Data</td>\n",
       "    </tr>\n",
       "    <tr>\n",
       "      <th>12</th>\n",
       "      <td>18</td>\n",
       "      <td>20.481571</td>\n",
       "      <td>2a03:2880:f242:c8:face:b00c:0:167</td>\n",
       "      <td>2a10:8012:21:4188:cdf4:35bf:f239:2701</td>\n",
       "      <td>TLSv1.2</td>\n",
       "      <td>1599</td>\n",
       "      <td>Application Data</td>\n",
       "    </tr>\n",
       "    <tr>\n",
       "      <th>14</th>\n",
       "      <td>20</td>\n",
       "      <td>20.485775</td>\n",
       "      <td>2a03:2880:f242:c8:face:b00c:0:167</td>\n",
       "      <td>2a10:8012:21:4188:cdf4:35bf:f239:2701</td>\n",
       "      <td>TLSv1.2</td>\n",
       "      <td>2681</td>\n",
       "      <td>Application Data</td>\n",
       "    </tr>\n",
       "    <tr>\n",
       "      <th>...</th>\n",
       "      <td>...</td>\n",
       "      <td>...</td>\n",
       "      <td>...</td>\n",
       "      <td>...</td>\n",
       "      <td>...</td>\n",
       "      <td>...</td>\n",
       "      <td>...</td>\n",
       "    </tr>\n",
       "    <tr>\n",
       "      <th>2379</th>\n",
       "      <td>3008</td>\n",
       "      <td>970.248509</td>\n",
       "      <td>2a03:2880:f242:c8:face:b00c:0:167</td>\n",
       "      <td>2a10:8012:21:4188:cdf4:35bf:f239:2701</td>\n",
       "      <td>TLSv1.2</td>\n",
       "      <td>179</td>\n",
       "      <td>Application Data</td>\n",
       "    </tr>\n",
       "    <tr>\n",
       "      <th>2385</th>\n",
       "      <td>3017</td>\n",
       "      <td>986.203623</td>\n",
       "      <td>2a03:2880:f242:c8:face:b00c:0:167</td>\n",
       "      <td>2a10:8012:21:4188:cdf4:35bf:f239:2701</td>\n",
       "      <td>TLSv1.2</td>\n",
       "      <td>158</td>\n",
       "      <td>Application Data</td>\n",
       "    </tr>\n",
       "    <tr>\n",
       "      <th>2387</th>\n",
       "      <td>3019</td>\n",
       "      <td>988.988044</td>\n",
       "      <td>2a03:2880:f242:c8:face:b00c:0:167</td>\n",
       "      <td>2a10:8012:21:4188:cdf4:35bf:f239:2701</td>\n",
       "      <td>TLSv1.2</td>\n",
       "      <td>335</td>\n",
       "      <td>Application Data</td>\n",
       "    </tr>\n",
       "    <tr>\n",
       "      <th>2391</th>\n",
       "      <td>3027</td>\n",
       "      <td>992.366876</td>\n",
       "      <td>2a03:2880:f242:c8:face:b00c:0:167</td>\n",
       "      <td>2a10:8012:21:4188:cdf4:35bf:f239:2701</td>\n",
       "      <td>TLSv1.2</td>\n",
       "      <td>179</td>\n",
       "      <td>Application Data</td>\n",
       "    </tr>\n",
       "    <tr>\n",
       "      <th>2395</th>\n",
       "      <td>3033</td>\n",
       "      <td>998.717106</td>\n",
       "      <td>2a03:2880:f242:c8:face:b00c:0:167</td>\n",
       "      <td>2a10:8012:21:4188:cdf4:35bf:f239:2701</td>\n",
       "      <td>TLSv1.2</td>\n",
       "      <td>274</td>\n",
       "      <td>Application Data</td>\n",
       "    </tr>\n",
       "  </tbody>\n",
       "</table>\n",
       "<p>317 rows × 7 columns</p>\n",
       "</div>"
      ],
      "text/plain": [
       "       No.        Time                             Source  \\\n",
       "0        3    1.126085  2a03:2880:f242:c8:face:b00c:0:167   \n",
       "4        7    6.860832  2a03:2880:f242:c8:face:b00c:0:167   \n",
       "10      16   18.679773  2a03:2880:f242:c8:face:b00c:0:167   \n",
       "12      18   20.481571  2a03:2880:f242:c8:face:b00c:0:167   \n",
       "14      20   20.485775  2a03:2880:f242:c8:face:b00c:0:167   \n",
       "...    ...         ...                                ...   \n",
       "2379  3008  970.248509  2a03:2880:f242:c8:face:b00c:0:167   \n",
       "2385  3017  986.203623  2a03:2880:f242:c8:face:b00c:0:167   \n",
       "2387  3019  988.988044  2a03:2880:f242:c8:face:b00c:0:167   \n",
       "2391  3027  992.366876  2a03:2880:f242:c8:face:b00c:0:167   \n",
       "2395  3033  998.717106  2a03:2880:f242:c8:face:b00c:0:167   \n",
       "\n",
       "                                Destination Protocol  Length              Info  \n",
       "0     2a10:8012:21:4188:cdf4:35bf:f239:2701  TLSv1.2     380  Application Data  \n",
       "4     2a10:8012:21:4188:cdf4:35bf:f239:2701  TLSv1.2     364  Application Data  \n",
       "10    2a10:8012:21:4188:cdf4:35bf:f239:2701  TLSv1.2     158  Application Data  \n",
       "12    2a10:8012:21:4188:cdf4:35bf:f239:2701  TLSv1.2    1599  Application Data  \n",
       "14    2a10:8012:21:4188:cdf4:35bf:f239:2701  TLSv1.2    2681  Application Data  \n",
       "...                                     ...      ...     ...               ...  \n",
       "2379  2a10:8012:21:4188:cdf4:35bf:f239:2701  TLSv1.2     179  Application Data  \n",
       "2385  2a10:8012:21:4188:cdf4:35bf:f239:2701  TLSv1.2     158  Application Data  \n",
       "2387  2a10:8012:21:4188:cdf4:35bf:f239:2701  TLSv1.2     335  Application Data  \n",
       "2391  2a10:8012:21:4188:cdf4:35bf:f239:2701  TLSv1.2     179  Application Data  \n",
       "2395  2a10:8012:21:4188:cdf4:35bf:f239:2701  TLSv1.2     274  Application Data  \n",
       "\n",
       "[317 rows x 7 columns]"
      ]
     },
     "execution_count": 318,
     "metadata": {},
     "output_type": "execute_result"
    }
   ],
   "source": [
    "four_groups_data = pd.read_csv(\"../resources/Mix data Group/four_groups.csv\", encoding='latin-1')\n",
    "four_groups_data = four_groups_data[four_groups_data['Protocol'].str.contains('TLS')] \n",
    "four_groups_data = filter_data_by_ip(four_groups_data, '2a03:2880:f242:c8:face:b00c:0:167', '2a10:8012:21:4188:cdf4:35bf:f239:2701')\n",
    "sub_data = four_groups_data[four_groups_data['Info'].str.contains('PDU')] \n",
    "four_groups_data"
   ]
  },
  {
   "cell_type": "markdown",
   "id": "ffa0788f",
   "metadata": {},
   "source": [
    "Based on comprehensive analysis of the data visualizations and prior investigative findings, salient conclusions can be reached regarding media categorization.\n",
    "\n",
    "The distinct, compact blocks signify batched text messages. The Thick medium columns represent aggregated image files. With few exceptions, the highest columns indicate videos or aggregated large text messages, though shorter video length could mimic image batches in isolated cases.\n",
    "\n",
    "Additionally, column heights slightly smaller than image batches are identifiable as recordings, occupying an intermediate range. Taken holistically, the patterns enable reliable categorization of the diverse media types transferred.\n",
    "\n",
    "Ongoing monitoring and refinement of the classification criteria will ensure continued accuracy, accounting for potential anomalies and evolving usage profiles. Granular differentiation of text, images, videos and recordings facilitates optimization of network resources and infrastructure to best suit each format’s properties."
   ]
  },
  {
   "cell_type": "code",
   "execution_count": 314,
   "id": "76a97703-c85d-4e51-9829-7256fd659057",
   "metadata": {},
   "outputs": [
    {
     "data": {
      "image/png": "[encoded data removed]",
      "text/plain": [
       "<Figure size 1080x432 with 1 Axes>"
      ]
     },
     "metadata": {
      "needs_background": "light"
     },
     "output_type": "display_data"
    }
   ],
   "source": [
    "plot_graph(four_groups_data, 'Time vs Length - mix data')"
   ]
  },
  {
   "cell_type": "markdown",
   "id": "7d5ee3ba",
   "metadata": {},
   "source": [
    "Initial data transfers indicated clustered text messages. However, visualization shows an anomalous singular column instead of expected blocks. Further packet-level investigation uncovered TCP reassembly occurring, which consolidated the discrete messages.\n",
    "\n",
    "This TCP behavior produced misleading visualization of the traffic as a long video rather than the actual batched texts. Supplementary packet sequence analysis, represented in blue, validates the granular packet rhythm aligning to the short bursty nature of messaging versus steady video streaming.\n",
    "\n",
    "Incorporating this supplemental packet-based evidence solves the conflicting visualization. The unified results correctly characterize the traffic as clustered text messages rather than erroneous video identification.\n",
    "\n",
    "This clarification underscores the importance of layered analysis when anomalies arise. No single view in isolation provides definitive meaning. Comparing packet patterns and higher-level trends delivers the full contextual understanding required for accurate classification.\n",
    "\n",
    "Moving forward, cross-validating unusual visualizations against lower-level evidence will be vital to avoid misinterpretation. A holistic analytics approach combining perspectives will enhance insight and enable appropriate system refinements."
   ]
  },
  {
   "cell_type": "code",
   "execution_count": 316,
   "id": "5230c27b",
   "metadata": {},
   "outputs": [
    {
     "data": {
      "image/png": "[encoded data removed]",
      "text/plain": [
       "<Figure size 1080x432 with 1 Axes>"
      ]
     },
     "metadata": {
      "needs_background": "light"
     },
     "output_type": "display_data"
    }
   ],
   "source": [
    "plot_main_and_sub_graph(four_groups_data,sub_data, 'Comparison of Whole Dataset and Desired Subset - Reassembled Data' ,'WhatsApp Server IP','Reassembled')"
   ]
  },
  {
   "cell_type": "markdown",
   "id": "4c40726e-6d03-409b-a215-26c3c3319eb5",
   "metadata": {},
   "source": [
    "### Text and Pictures group with Spotify at the backroud"
   ]
  },
  {
   "cell_type": "markdown",
   "id": "e53445b9-9569-47ec-918b-78fc98551afb",
   "metadata": {},
   "source": [
    "*Having identified distinctive patterns for text messages and pictures messages in the clean dataset, we next introduced intentional background noise to determine if the patterns persist. Specifically, Spotify audio streaming was used to generate noisy packet data while simultaneously transmitting and recording text messages.*\n",
    "\n",
    "*Despite the addition of background noise, inspection of the data reveals the reappearance of the characteristic text message pattern and picture pattern. As before, the text messages manifest as a dense block-like bundle of smaller red packets distinct from the noise and the pictures are packets at length of approximately 1500. This indicates that the fingerprints we identified for text messages and pictures are robust to even some background traffic noise.*\n",
    "\n",
    "*Moving forward, we can use these robust message fingerprints to identify and extract relevant packets even if there is unrelated noise from activities like music streaming. The persistence of the patterns suggests it may be possible to detect various message types amidst noisy transmission environments where extraneous packets are interspersed. More testing is needed to determine if other data types like photos maintain their identifiable marks when noise is introduced.*"
   ]
  },
  {
   "cell_type": "code",
   "execution_count": 319,
   "id": "eebb499d-92cc-40fc-be2a-f33c9eeb189b",
   "metadata": {},
   "outputs": [
    {
     "data": {
      "text/html": [
       "<div>\n",
       "<style scoped>\n",
       "    .dataframe tbody tr th:only-of-type {\n",
       "        vertical-align: middle;\n",
       "    }\n",
       "\n",
       "    .dataframe tbody tr th {\n",
       "        vertical-align: top;\n",
       "    }\n",
       "\n",
       "    .dataframe thead th {\n",
       "        text-align: right;\n",
       "    }\n",
       "</style>\n",
       "<table border=\"1\" class=\"dataframe\">\n",
       "  <thead>\n",
       "    <tr style=\"text-align: right;\">\n",
       "      <th></th>\n",
       "      <th>No.</th>\n",
       "      <th>Time</th>\n",
       "      <th>Source</th>\n",
       "      <th>Destination</th>\n",
       "      <th>Protocol</th>\n",
       "      <th>Length</th>\n",
       "      <th>Info</th>\n",
       "    </tr>\n",
       "  </thead>\n",
       "  <tbody>\n",
       "    <tr>\n",
       "      <th>0</th>\n",
       "      <td>1</td>\n",
       "      <td>0.000000</td>\n",
       "      <td>157.240.221.60</td>\n",
       "      <td>192.168.1.12</td>\n",
       "      <td>TLSv1.2</td>\n",
       "      <td>851</td>\n",
       "      <td>Application Data</td>\n",
       "    </tr>\n",
       "    <tr>\n",
       "      <th>2</th>\n",
       "      <td>3</td>\n",
       "      <td>2.218931</td>\n",
       "      <td>192.168.1.12</td>\n",
       "      <td>157.240.221.60</td>\n",
       "      <td>TLSv1.2</td>\n",
       "      <td>137</td>\n",
       "      <td>Application Data</td>\n",
       "    </tr>\n",
       "    <tr>\n",
       "      <th>4</th>\n",
       "      <td>5</td>\n",
       "      <td>2.379339</td>\n",
       "      <td>157.240.221.60</td>\n",
       "      <td>192.168.1.12</td>\n",
       "      <td>TLSv1.2</td>\n",
       "      <td>139</td>\n",
       "      <td>Application Data</td>\n",
       "    </tr>\n",
       "    <tr>\n",
       "      <th>48</th>\n",
       "      <td>73</td>\n",
       "      <td>19.387040</td>\n",
       "      <td>192.168.1.12</td>\n",
       "      <td>157.240.221.60</td>\n",
       "      <td>TLSv1.2</td>\n",
       "      <td>137</td>\n",
       "      <td>Application Data</td>\n",
       "    </tr>\n",
       "    <tr>\n",
       "      <th>51</th>\n",
       "      <td>76</td>\n",
       "      <td>19.553764</td>\n",
       "      <td>157.240.221.60</td>\n",
       "      <td>192.168.1.12</td>\n",
       "      <td>TLSv1.2</td>\n",
       "      <td>139</td>\n",
       "      <td>Application Data</td>\n",
       "    </tr>\n",
       "    <tr>\n",
       "      <th>...</th>\n",
       "      <td>...</td>\n",
       "      <td>...</td>\n",
       "      <td>...</td>\n",
       "      <td>...</td>\n",
       "      <td>...</td>\n",
       "      <td>...</td>\n",
       "      <td>...</td>\n",
       "    </tr>\n",
       "    <tr>\n",
       "      <th>24943</th>\n",
       "      <td>26201</td>\n",
       "      <td>816.547389</td>\n",
       "      <td>2a00:a040:0:4:face:b00c:3333:7020</td>\n",
       "      <td>2a00:a041:3c5d:4d00:b981:f170:feac:7cf9</td>\n",
       "      <td>TLSv1.3</td>\n",
       "      <td>1468</td>\n",
       "      <td>Application Data [TCP segment of a reassembled...</td>\n",
       "    </tr>\n",
       "    <tr>\n",
       "      <th>24964</th>\n",
       "      <td>26222</td>\n",
       "      <td>816.555662</td>\n",
       "      <td>2a00:a040:0:4:face:b00c:3333:7020</td>\n",
       "      <td>2a00:a041:3c5d:4d00:b981:f170:feac:7cf9</td>\n",
       "      <td>TLSv1.3</td>\n",
       "      <td>1468</td>\n",
       "      <td>Application Data [TCP segment of a reassembled...</td>\n",
       "    </tr>\n",
       "    <tr>\n",
       "      <th>24966</th>\n",
       "      <td>26224</td>\n",
       "      <td>816.556287</td>\n",
       "      <td>2a00:a040:0:4:face:b00c:3333:7020</td>\n",
       "      <td>2a00:a041:3c5d:4d00:b981:f170:feac:7cf9</td>\n",
       "      <td>TLSv1.3</td>\n",
       "      <td>1468</td>\n",
       "      <td>Application Data [TCP segment of a reassembled...</td>\n",
       "    </tr>\n",
       "    <tr>\n",
       "      <th>24970</th>\n",
       "      <td>26228</td>\n",
       "      <td>816.557668</td>\n",
       "      <td>2a00:a040:0:4:face:b00c:3333:7020</td>\n",
       "      <td>2a00:a041:3c5d:4d00:b981:f170:feac:7cf9</td>\n",
       "      <td>TLSv1.3</td>\n",
       "      <td>1468</td>\n",
       "      <td>Application Data [TCP segment of a reassembled...</td>\n",
       "    </tr>\n",
       "    <tr>\n",
       "      <th>24976</th>\n",
       "      <td>26234</td>\n",
       "      <td>816.559955</td>\n",
       "      <td>2a00:a040:0:4:face:b00c:3333:7020</td>\n",
       "      <td>2a00:a041:3c5d:4d00:b981:f170:feac:7cf9</td>\n",
       "      <td>TLSv1.3</td>\n",
       "      <td>2669</td>\n",
       "      <td>Application Data, Application Data</td>\n",
       "    </tr>\n",
       "  </tbody>\n",
       "</table>\n",
       "<p>2691 rows × 7 columns</p>\n",
       "</div>"
      ],
      "text/plain": [
       "         No.        Time                             Source  \\\n",
       "0          1    0.000000                     157.240.221.60   \n",
       "2          3    2.218931                       192.168.1.12   \n",
       "4          5    2.379339                     157.240.221.60   \n",
       "48        73   19.387040                       192.168.1.12   \n",
       "51        76   19.553764                     157.240.221.60   \n",
       "...      ...         ...                                ...   \n",
       "24943  26201  816.547389  2a00:a040:0:4:face:b00c:3333:7020   \n",
       "24964  26222  816.555662  2a00:a040:0:4:face:b00c:3333:7020   \n",
       "24966  26224  816.556287  2a00:a040:0:4:face:b00c:3333:7020   \n",
       "24970  26228  816.557668  2a00:a040:0:4:face:b00c:3333:7020   \n",
       "24976  26234  816.559955  2a00:a040:0:4:face:b00c:3333:7020   \n",
       "\n",
       "                                   Destination Protocol  Length  \\\n",
       "0                                 192.168.1.12  TLSv1.2     851   \n",
       "2                               157.240.221.60  TLSv1.2     137   \n",
       "4                                 192.168.1.12  TLSv1.2     139   \n",
       "48                              157.240.221.60  TLSv1.2     137   \n",
       "51                                192.168.1.12  TLSv1.2     139   \n",
       "...                                        ...      ...     ...   \n",
       "24943  2a00:a041:3c5d:4d00:b981:f170:feac:7cf9  TLSv1.3    1468   \n",
       "24964  2a00:a041:3c5d:4d00:b981:f170:feac:7cf9  TLSv1.3    1468   \n",
       "24966  2a00:a041:3c5d:4d00:b981:f170:feac:7cf9  TLSv1.3    1468   \n",
       "24970  2a00:a041:3c5d:4d00:b981:f170:feac:7cf9  TLSv1.3    1468   \n",
       "24976  2a00:a041:3c5d:4d00:b981:f170:feac:7cf9  TLSv1.3    2669   \n",
       "\n",
       "                                                    Info  \n",
       "0                                       Application Data  \n",
       "2                                       Application Data  \n",
       "4                                       Application Data  \n",
       "48                                      Application Data  \n",
       "51                                      Application Data  \n",
       "...                                                  ...  \n",
       "24943  Application Data [TCP segment of a reassembled...  \n",
       "24964  Application Data [TCP segment of a reassembled...  \n",
       "24966  Application Data [TCP segment of a reassembled...  \n",
       "24970  Application Data [TCP segment of a reassembled...  \n",
       "24976                 Application Data, Application Data  \n",
       "\n",
       "[2691 rows x 7 columns]"
      ]
     },
     "execution_count": 319,
     "metadata": {},
     "output_type": "execute_result"
    }
   ],
   "source": [
    "mix_with_spotify = pd.read_csv(\"../resources/Mix data Group/text_with_spotify_data.csv\", encoding='latin-1')\n",
    "mix_with_spotify = mix_with_spotify[mix_with_spotify['Protocol'].str.contains('TLS')]\n",
    "mix_with_spotify"
   ]
  },
  {
   "cell_type": "code",
   "execution_count": 320,
   "id": "91a72093-736a-4f57-a3d4-f3a52d301278",
   "metadata": {},
   "outputs": [],
   "source": [
    "mix_with_spotify_filter = mix_with_spotify.loc[\n",
    "    ((mix_with_spotify['Source'] == '2a00:a041:3c5d:4d00:b981:f170:feac:7cf9') & \n",
    "    (mix_with_spotify['Destination'] == '2a03:2880:f258:c8:face:b00c:0:167'))|\n",
    "    (mix_with_spotify['Destination'] == '192.168.1.12')\n",
    "]\n",
    "\n",
    "spotify_packets = mix_with_spotify.loc[\n",
    "    (mix_with_spotify['Source'] == '2600:1901:1:c36::')\n",
    "]"
   ]
  },
  {
   "cell_type": "code",
   "execution_count": 321,
   "id": "4b66601f-9e6d-4665-bb2a-7ff98ab34686",
   "metadata": {},
   "outputs": [
    {
     "data": {
      "image/png": "[encoded data removed]",
      "text/plain": [
       "<Figure size 1080x432 with 1 Axes>"
      ]
     },
     "metadata": {
      "needs_background": "light"
     },
     "output_type": "display_data"
    }
   ],
   "source": [
    "plot_main_and_sub_graph(mix_with_spotify_filter,spotify_packets, 'Comparison of Whole Dataset and Desired Subset - Data With Spotify Noise' ,'WhatsApp Server IP','Spotify Server IP')"
   ]
  },
  {
   "cell_type": "markdown",
   "id": "d217a292-5b81-4382-aeaf-6d19c503b822",
   "metadata": {},
   "source": [
    "*From this packet capture, we can see there was very intensive activity on the WhatsApp servers during the recording. The WhatsApp group we recorded was extremely busy with messages, which is clearly visible in the graph. Specifically we can see heavy text message usage in multiple places i.e at 50 seconds ,300 seconds,580 seconds and between 600 to 800 seconds on the time axis. Additionally you can see multiple pictures being sent between 350 seconds to 450 seconds on the time axis.*\n",
    "\n",
    "*Additionally, we expected the Spotify streaming to generate more significant noise. However, in comparison to the server activity, the Spotify noise is relatively insignificant. The bulk of the traffic stems from the barrage of messages within the busy WhatsApp group chat.*\n",
    "\n",
    "*This dataset provides an example of WhatsApp traffic during periods of heavy chat activity. The volume of messages being exchanged results in pronounced server traffic that overshadows background noise sources like music streaming. Analyzing busy versus idle chat patterns could provide insights into WhatsApp bandwidth usage and server loads under different use cases.*"
   ]
  },
  {
   "cell_type": "code",
   "execution_count": 323,
   "id": "43abdd52-a827-4981-8a1b-1e0b05b724a2",
   "metadata": {},
   "outputs": [
    {
     "data": {
      "image/png": "[encoded data removed]",
      "text/plain": [
       "<Figure size 720x432 with 1 Axes>"
      ]
     },
     "metadata": {
      "needs_background": "light"
     },
     "output_type": "display_data"
    }
   ],
   "source": [
    "def get_ccdf(data_col): \n",
    "        \n",
    "    \"\"\" Compute the Complementary Cumulative Distribution Function (CCDF) of a given data column\n",
    "    Args:\n",
    "        data_col (array-like): The data column to compute CCDF for.\n",
    "        \n",
    "    Returns:\n",
    "        norm_data (array-like): Normalized data values.\n",
    "        ccdf_data (array-like): CCDF values for the data.\n",
    "    \"\"\"\n",
    "    \n",
    "    # Normalize and sort the data\n",
    "    norm_data = data_col / max(data_col)\n",
    "    norm_data = np.sort(norm_data)\n",
    "    \n",
    "    # Calculate CCDF\n",
    "    cdf_data = np.linspace(1/len(norm_data), 1, len(norm_data))\n",
    "    ccdf_data = 1 - cdf_data\n",
    "    \n",
    "    return norm_data, ccdf_data\n",
    "\n",
    "def plot_ccdf(data_list, labels_list): \n",
    "    \"\"\" Plot Complementary Cumulative Distribution Function (CCDF) for multiple datasets.\n",
    "    \n",
    "    Args:\n",
    "        data_list (list): List of datasets to plot.\n",
    "        labels_list (list): List of labels for each dataset.\n",
    "    \"\"\"\n",
    "    \n",
    "    plt.figure(figsize=(10, 6))\n",
    "    \n",
    "    for data, label in zip(data_list, labels_list):\n",
    "        x, y = get_ccdf(data['Length'])\n",
    "        plt.plot(x, y, label=label)\n",
    "    \n",
    "    plt.yscale('log')\n",
    "    plt.xlabel('Normalized Data Sizes')\n",
    "    plt.ylabel('CCDF') \n",
    "    plt.title('CCDF Of Data Size Distribution')\n",
    "    plt.legend(loc=\"lower left\")\n",
    "    plt.show()\n",
    "\n",
    "datasets = [four_groups_data, pictures_data, text_data, video_data, voice_data ,text_with_spotify]  # List of datasets\n",
    "labels = ['Mixed', 'Pictures', 'Text', 'Video', 'Voice', 'Group With Spotify Noise' ]  # Corresponding labels\n",
    "plot_ccdf(datasets, labels)"
   ]
  },
  {
   "cell_type": "code",
   "execution_count": null,
   "id": "c21a558f-e3c6-4f5d-9d5a-6030f77cfa62",
   "metadata": {},
   "outputs": [],
   "source": []
  },
  {
   "cell_type": "code",
   "execution_count": 257,
   "id": "2983bb3e",
   "metadata": {},
   "outputs": [],
   "source": [
    "#interestingly enough the corresponding distribution of the picture dataset has more extreme values at any\n",
    "# given probability threshold than most of the datasets including the video dataset.\n"
   ]
  },
  {
   "cell_type": "code",
   "execution_count": 258,
   "id": "d507c515-5f89-49d1-8134-f975b976fc6b",
   "metadata": {},
   "outputs": [],
   "source": [
    "# Slope of the Curve: The slope of the CCDF curve is indicative of the distribution's behavior.\n",
    "# A steeper slope indicates that extreme values are rare, while a shallower slope suggests that extreme values are more common.\n",
    "\n",
    "# Drops in the Curve: Sharp drops or steep declines in the CCDF curve indicate points where the probability\n",
    "# of encountering a data point with a higher value sharply decreases. \n",
    "# These drops correspond to the \"gaps\" between data points, which are often indicative of rare events or outliers.\n",
    "\n",
    "#Comparative Analysis: If you have multiple CCDF curves on the same plot (representing different datasets or distributions),\n",
    "# you can compare their behaviors. Steeper curves indicate that the corresponding dataset has a heavier tail (fewer extreme values)\n",
    "# , while shallower curves suggest that extreme values are more prevalent.\n",
    "\n",
    "# Shifts and Overlaps: When comparing multiple CCDF curves, shifts or overlaps can indicate how distributions differ.\n",
    "# If one curve is consistently above another, it means that the corresponding distribution has more extreme values at any\n",
    "# given probability threshold.\n",
    "\n",
    "# Inflection Points: An inflection point on the CCDF curve often indicates a transition in the distribution's behavior.\n",
    "# It's a point where the slope of the curve changes,\n",
    "# potentially revealing a point of interest or a change in the underlying process"
   ]
  },
  {
   "cell_type": "markdown",
   "id": "95f9d2c2",
   "metadata": {},
   "source": [
    "### Summary and Conclusions"
   ]
  },
  {
   "cell_type": "code",
   "execution_count": 269,
   "id": "c03dd840-393c-413f-b673-9fff72bcebf8",
   "metadata": {},
   "outputs": [
    {
     "name": "stdout",
     "output_type": "stream",
     "text": [
      "Statistics for Pictures Data:\n",
      "+--------+-------+-------------------+-------------------+-------+-------+-------+--------+--------+\n",
      "|        | count |       mean        |        std        |  min  |  25%  |  50%  |  75%   |  max   |\n",
      "+--------+-------+-------------------+-------------------+-------+-------+-------+--------+--------+\n",
      "| Length | 85.0  | 617.2235294117647 | 616.7271407246826 | 152.0 | 160.0 | 229.0 | 1304.0 | 2022.0 |\n",
      "+--------+-------+-------------------+-------------------+-------+-------+-------+--------+--------+\n",
      "\n",
      "Statistics for Voice Data:\n",
      "+--------+-------+--------------------+-------------------+-------+-------+-------+-------+--------+\n",
      "|        | count |        mean        |        std        |  min  |  25%  |  50%  |  75%  |  max   |\n",
      "+--------+-------+--------------------+-------------------+-------+-------+-------+-------+--------+\n",
      "| Length | 105.0 | 379.45714285714286 | 313.9607713299004 | 151.0 | 159.0 | 181.0 | 552.0 | 1112.0 |\n",
      "+--------+-------+--------------------+-------------------+-------+-------+-------+-------+--------+\n",
      "\n",
      "Statistics for Video Data:\n",
      "+--------+-------+-------------------+-------------------+-------+-------+-------+--------+--------+\n",
      "|        | count |       mean        |        std        |  min  |  25%  |  50%  |  75%   |  max   |\n",
      "+--------+-------+-------------------+-------------------+-------+-------+-------+--------+--------+\n",
      "| Length | 157.0 | 899.6496815286624 | 998.9877496376911 | 112.0 | 159.0 | 363.0 | 1436.0 | 2848.0 |\n",
      "+--------+-------+-------------------+-------------------+-------+-------+-------+--------+--------+\n",
      "\n",
      "Statistics for Text Data:\n",
      "+--------+-------+-------------------+-------------------+-------+-------+-------+-------+--------+\n",
      "|        | count |       mean        |        std        |  min  |  25%  |  50%  |  75%  |  max   |\n",
      "+--------+-------+-------------------+-------------------+-------+-------+-------+-------+--------+\n",
      "| Length | 181.0 | 336.7790055248619 | 315.8811763255027 | 112.0 | 181.0 | 236.0 | 371.0 | 2848.0 |\n",
      "+--------+-------+-------------------+-------------------+-------+-------+-------+-------+--------+\n",
      "\n"
     ]
    }
   ],
   "source": [
    "def format_describe(data, title):\n",
    "    stats = data['Length'].describe()\n",
    "    df = pd.DataFrame(stats).T\n",
    "    df.columns.name = title\n",
    "    return df\n",
    "\n",
    "pictures_data_stats = format_describe(pictures_data2, 'Pictures Data')\n",
    "voice_data_stats = format_describe(voice_data2, 'Voice Data')\n",
    "video_data_stats = format_describe(video_data, 'Video Data')\n",
    "text_data_stats = format_describe(text_data, 'Text Data')\n",
    "\n",
    "# Convert the DataFrame statistics to a table format\n",
    "table_pictures = tabulate(pictures_data_stats, headers='keys', tablefmt='pretty')\n",
    "table_voice = tabulate(voice_data_stats, headers='keys', tablefmt='pretty')\n",
    "table_video = tabulate(video_data_stats, headers='keys', tablefmt='pretty')\n",
    "table_text = tabulate(text_data_stats, headers='keys', tablefmt='pretty')\n",
    "\n",
    "print(f\"Statistics for Pictures Data:\\n{table_pictures}\\n\")\n",
    "print(f\"Statistics for Voice Data:\\n{table_voice}\\n\")\n",
    "print(f\"Statistics for Video Data:\\n{table_video}\\n\")\n",
    "print(f\"Statistics for Text Data:\\n{table_text}\\n\")"
   ]
  },
  {
   "cell_type": "markdown",
   "id": "bc2a26cd",
   "metadata": {},
   "source": [
    "Upon examination of the datasets, it is evident that there remains a substantial amount of noise, with the tracked data comprising approximately 30% of the total in each case. While the 75th percentile offers improved insight into normal activity, even this may be obscured by outliers. Ideal understanding would necessitate analysis solely of the last 30% of data points, which likely represent true steady state.\n",
    "\n",
    "However, with similar noise levels across datasets, the relative proportions provide useful directional accuracy. For instance, video can be expected to dominate usage, followed by pictures and other media types.\n",
    "\n",
    "Moving forward, data filtering and cleaning will further enhance analysis. Additional data sources may also validate if usage patterns follow expected distribution across media categories"
   ]
  },
  {
   "cell_type": "code",
   "execution_count": null,
   "id": "876c5a04-a98e-4f18-b1b1-765a7ee8cb2e",
   "metadata": {},
   "outputs": [],
   "source": []
  },
  {
   "cell_type": "code",
   "execution_count": null,
   "id": "4760e58f-0c7e-41ac-bf1f-d9e1cab77ef2",
   "metadata": {},
   "outputs": [],
   "source": []
  },
  {
   "cell_type": "code",
   "execution_count": null,
   "id": "263c0434-f622-44ea-852f-f6e084b7ccce",
   "metadata": {},
   "outputs": [],
   "source": []
  },
  {
   "cell_type": "code",
   "execution_count": null,
   "id": "07589c71-f345-42bd-a037-866009ff397d",
   "metadata": {},
   "outputs": [],
   "source": []
  },
  {
   "cell_type": "code",
   "execution_count": null,
   "id": "73a7b73b-523a-4490-a330-81d8bc6d6233",
   "metadata": {},
   "outputs": [],
   "source": []
  }
 ],
 "metadata": {
  "kernelspec": {
   "display_name": "Python 3 (ipykernel)",
   "language": "python",
   "name": "python3"
  },
  "language_info": {
   "codemirror_mode": {
    "name": "ipython",
    "version": 3
   },
   "file_extension": ".py",
   "mimetype": "text/x-python",
   "name": "python",
   "nbconvert_exporter": "python",
   "pygments_lexer": "ipython3",
   "version": "3.9.12"
  }
 },
 "nbformat": 4,
 "nbformat_minor": 5
}
