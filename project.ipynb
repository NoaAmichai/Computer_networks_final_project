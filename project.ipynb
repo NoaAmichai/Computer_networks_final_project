{
 "cells": [
  {
   "cell_type": "code",
   "execution_count": 2,
   "id": "c062c942-148b-4796-ab20-52a62c6ead60",
   "metadata": {},
   "outputs": [],
   "source": [
    "import pandas as pd\n",
    "import numpy as np\n",
    "import matplotlib.pyplot as plt"
   ]
  },
  {
   "cell_type": "code",
   "execution_count": 17,
   "id": "3c44edaf-f0ef-4497-9ac7-8bd4ad5fe38d",
   "metadata": {},
   "outputs": [
    {
     "data": {
      "text/html": [
       "<div>\n",
       "<style scoped>\n",
       "    .dataframe tbody tr th:only-of-type {\n",
       "        vertical-align: middle;\n",
       "    }\n",
       "\n",
       "    .dataframe tbody tr th {\n",
       "        vertical-align: top;\n",
       "    }\n",
       "\n",
       "    .dataframe thead th {\n",
       "        text-align: right;\n",
       "    }\n",
       "</style>\n",
       "<table border=\"1\" class=\"dataframe\">\n",
       "  <thead>\n",
       "    <tr style=\"text-align: right;\">\n",
       "      <th></th>\n",
       "      <th>No.</th>\n",
       "      <th>Time</th>\n",
       "      <th>Source</th>\n",
       "      <th>Destination</th>\n",
       "      <th>Protocol</th>\n",
       "      <th>Length</th>\n",
       "      <th>Info</th>\n",
       "    </tr>\n",
       "  </thead>\n",
       "  <tbody>\n",
       "    <tr>\n",
       "      <th>0</th>\n",
       "      <td>1</td>\n",
       "      <td>0.000000</td>\n",
       "      <td>2a03:2880:f273:c8:face:b00c:0:167</td>\n",
       "      <td>2a00:a041:3c5d:4d00:f4a4:3acb:df53:1bea</td>\n",
       "      <td>TLSv1.3</td>\n",
       "      <td>253</td>\n",
       "      <td>Server Hello, Application Data</td>\n",
       "    </tr>\n",
       "    <tr>\n",
       "      <th>1</th>\n",
       "      <td>3</td>\n",
       "      <td>0.058330</td>\n",
       "      <td>2a03:2880:f273:c8:face:b00c:0:167</td>\n",
       "      <td>2a00:a041:3c5d:4d00:f4a4:3acb:df53:1bea</td>\n",
       "      <td>TLSv1.3</td>\n",
       "      <td>253</td>\n",
       "      <td>Server Hello, Application Data</td>\n",
       "    </tr>\n",
       "    <tr>\n",
       "      <th>2</th>\n",
       "      <td>7</td>\n",
       "      <td>0.161005</td>\n",
       "      <td>2a03:2880:f273:c8:face:b00c:0:167</td>\n",
       "      <td>2a00:a041:3c5d:4d00:f4a4:3acb:df53:1bea</td>\n",
       "      <td>TLSv1.3</td>\n",
       "      <td>257</td>\n",
       "      <td>Application Data</td>\n",
       "    </tr>\n",
       "    <tr>\n",
       "      <th>3</th>\n",
       "      <td>10</td>\n",
       "      <td>0.161660</td>\n",
       "      <td>2a00:a041:3c5d:4d00:f4a4:3acb:df53:1bea</td>\n",
       "      <td>2a03:2880:f273:c8:face:b00c:0:167</td>\n",
       "      <td>TLSv1.2</td>\n",
       "      <td>937</td>\n",
       "      <td>Ignored Unknown Record</td>\n",
       "    </tr>\n",
       "    <tr>\n",
       "      <th>4</th>\n",
       "      <td>12</td>\n",
       "      <td>0.162315</td>\n",
       "      <td>2a03:2880:f273:c8:face:b00c:0:167</td>\n",
       "      <td>2a00:a041:3c5d:4d00:f4a4:3acb:df53:1bea</td>\n",
       "      <td>TLSv1.3</td>\n",
       "      <td>257</td>\n",
       "      <td>Application Data</td>\n",
       "    </tr>\n",
       "  </tbody>\n",
       "</table>\n",
       "</div>"
      ],
      "text/plain": [
       "   No.      Time                                   Source  \\\n",
       "0    1  0.000000        2a03:2880:f273:c8:face:b00c:0:167   \n",
       "1    3  0.058330        2a03:2880:f273:c8:face:b00c:0:167   \n",
       "2    7  0.161005        2a03:2880:f273:c8:face:b00c:0:167   \n",
       "3   10  0.161660  2a00:a041:3c5d:4d00:f4a4:3acb:df53:1bea   \n",
       "4   12  0.162315        2a03:2880:f273:c8:face:b00c:0:167   \n",
       "\n",
       "                               Destination Protocol  Length  \\\n",
       "0  2a00:a041:3c5d:4d00:f4a4:3acb:df53:1bea  TLSv1.3     253   \n",
       "1  2a00:a041:3c5d:4d00:f4a4:3acb:df53:1bea  TLSv1.3     253   \n",
       "2  2a00:a041:3c5d:4d00:f4a4:3acb:df53:1bea  TLSv1.3     257   \n",
       "3        2a03:2880:f273:c8:face:b00c:0:167  TLSv1.2     937   \n",
       "4  2a00:a041:3c5d:4d00:f4a4:3acb:df53:1bea  TLSv1.3     257   \n",
       "\n",
       "                             Info  \n",
       "0  Server Hello, Application Data  \n",
       "1  Server Hello, Application Data  \n",
       "2                Application Data  \n",
       "3          Ignored Unknown Record  \n",
       "4                Application Data  "
      ]
     },
     "execution_count": 17,
     "metadata": {},
     "output_type": "execute_result"
    }
   ],
   "source": [
    "df = pd.read_csv(\"data_gprup1.csv\")\n",
    "df.head()"
   ]
  },
  {
   "cell_type": "code",
   "execution_count": null,
   "id": "37c6d810-c454-4a3c-a41a-bd2fc7ced124",
   "metadata": {},
   "outputs": [],
   "source": []
  },
  {
   "cell_type": "code",
   "execution_count": 18,
   "id": "31f7e388-04ba-42f3-97ae-f8b7f793b84c",
   "metadata": {},
   "outputs": [
    {
     "data": {
      "image/png": "[encoded data removed]",
      "text/plain": [
       "<Figure size 2000x800 with 1 Axes>"
      ]
     },
     "metadata": {},
     "output_type": "display_data"
    }
   ],
   "source": [
    "time = df['Time']\n",
    "len = df['Length']\n",
    "plt.figure(figsize=(20,8)) \n",
    "plt.stem(time, len,linefmt ='black',markerfmt = '', basefmt='black')\n",
    "plt.xlabel('Time')\n",
    "plt.ylabel('Length')\n",
    "plt.title('Time vs Length')\n",
    "\n",
    "plt.show()"
   ]
  },
  {
   "cell_type": "code",
   "execution_count": null,
   "id": "374b8fa2-a727-408b-a68e-58f5c6942a12",
   "metadata": {},
   "outputs": [],
   "source": []
  },
  {
   "cell_type": "code",
   "execution_count": 15,
   "id": "bedf538d-1f6a-469f-a5f9-d43458a74ec9",
   "metadata": {},
   "outputs": [
    {
     "data": {
      "text/html": [
       "<div>\n",
       "<style scoped>\n",
       "    .dataframe tbody tr th:only-of-type {\n",
       "        vertical-align: middle;\n",
       "    }\n",
       "\n",
       "    .dataframe tbody tr th {\n",
       "        vertical-align: top;\n",
       "    }\n",
       "\n",
       "    .dataframe thead th {\n",
       "        text-align: right;\n",
       "    }\n",
       "</style>\n",
       "<table border=\"1\" class=\"dataframe\">\n",
       "  <thead>\n",
       "    <tr style=\"text-align: right;\">\n",
       "      <th></th>\n",
       "      <th>No.</th>\n",
       "      <th>Time</th>\n",
       "      <th>Source</th>\n",
       "      <th>Destination</th>\n",
       "      <th>Protocol</th>\n",
       "      <th>Length</th>\n",
       "      <th>Info</th>\n",
       "    </tr>\n",
       "  </thead>\n",
       "  <tbody>\n",
       "    <tr>\n",
       "      <th>0</th>\n",
       "      <td>1</td>\n",
       "      <td>0.000000</td>\n",
       "      <td>2a03:2880:f273:c8:face:b00c:0:167</td>\n",
       "      <td>2a00:a041:3c5d:4d00:f4a4:3acb:df53:1bea</td>\n",
       "      <td>TLSv1.2</td>\n",
       "      <td>165</td>\n",
       "      <td>Application Data</td>\n",
       "    </tr>\n",
       "    <tr>\n",
       "      <th>1</th>\n",
       "      <td>4</td>\n",
       "      <td>2.560208</td>\n",
       "      <td>2a03:2880:f273:c8:face:b00c:0:167</td>\n",
       "      <td>2a00:a041:3c5d:4d00:f4a4:3acb:df53:1bea</td>\n",
       "      <td>TCP</td>\n",
       "      <td>1468</td>\n",
       "      <td>443  &gt;  56848 [ACK] Seq=78 Ack=1 Win=547 Len=1...</td>\n",
       "    </tr>\n",
       "    <tr>\n",
       "      <th>2</th>\n",
       "      <td>6</td>\n",
       "      <td>2.560746</td>\n",
       "      <td>2a03:2880:f273:c8:face:b00c:0:167</td>\n",
       "      <td>2a00:a041:3c5d:4d00:f4a4:3acb:df53:1bea</td>\n",
       "      <td>TLSv1.2</td>\n",
       "      <td>742</td>\n",
       "      <td>Application Data, Application Data</td>\n",
       "    </tr>\n",
       "    <tr>\n",
       "      <th>3</th>\n",
       "      <td>8</td>\n",
       "      <td>2.969924</td>\n",
       "      <td>2a03:2880:f273:c8:face:b00c:0:167</td>\n",
       "      <td>2a00:a041:3c5d:4d00:f4a4:3acb:df53:1bea</td>\n",
       "      <td>TLSv1.2</td>\n",
       "      <td>229</td>\n",
       "      <td>Application Data</td>\n",
       "    </tr>\n",
       "    <tr>\n",
       "      <th>4</th>\n",
       "      <td>10</td>\n",
       "      <td>3.215864</td>\n",
       "      <td>2a00:a041:3c5d:4d00:f4a4:3acb:df53:1bea</td>\n",
       "      <td>2a03:2880:f273:c8:face:b00c:0:167</td>\n",
       "      <td>TLSv1.2</td>\n",
       "      <td>188</td>\n",
       "      <td>Application Data</td>\n",
       "    </tr>\n",
       "  </tbody>\n",
       "</table>\n",
       "</div>"
      ],
      "text/plain": [
       "   No.      Time                                   Source  \\\n",
       "0    1  0.000000        2a03:2880:f273:c8:face:b00c:0:167   \n",
       "1    4  2.560208        2a03:2880:f273:c8:face:b00c:0:167   \n",
       "2    6  2.560746        2a03:2880:f273:c8:face:b00c:0:167   \n",
       "3    8  2.969924        2a03:2880:f273:c8:face:b00c:0:167   \n",
       "4   10  3.215864  2a00:a041:3c5d:4d00:f4a4:3acb:df53:1bea   \n",
       "\n",
       "                               Destination Protocol  Length  \\\n",
       "0  2a00:a041:3c5d:4d00:f4a4:3acb:df53:1bea  TLSv1.2     165   \n",
       "1  2a00:a041:3c5d:4d00:f4a4:3acb:df53:1bea      TCP    1468   \n",
       "2  2a00:a041:3c5d:4d00:f4a4:3acb:df53:1bea  TLSv1.2     742   \n",
       "3  2a00:a041:3c5d:4d00:f4a4:3acb:df53:1bea  TLSv1.2     229   \n",
       "4        2a03:2880:f273:c8:face:b00c:0:167  TLSv1.2     188   \n",
       "\n",
       "                                                Info  \n",
       "0                                   Application Data  \n",
       "1  443  >  56848 [ACK] Seq=78 Ack=1 Win=547 Len=1...  \n",
       "2                 Application Data, Application Data  \n",
       "3                                   Application Data  \n",
       "4                                   Application Data  "
      ]
     },
     "execution_count": 15,
     "metadata": {},
     "output_type": "execute_result"
    }
   ],
   "source": [
    "video_data = pd.read_csv(\"video_group.csv\")\n",
    "video_data.head()"
   ]
  },
  {
   "cell_type": "code",
   "execution_count": 16,
   "id": "5ff477c6-463b-40f6-82a2-7868230b85ed",
   "metadata": {},
   "outputs": [
    {
     "data": {
      "image/png": "[encoded data removed]",
      "text/plain": [
       "<Figure size 2000x800 with 1 Axes>"
      ]
     },
     "metadata": {},
     "output_type": "display_data"
    }
   ],
   "source": [
    "time = video_data['Time']\n",
    "len = video_data['Length']\n",
    "plt.figure(figsize=(20,8)) \n",
    "plt.stem(time, len,linefmt ='black',markerfmt = '', basefmt='black')\n",
    "plt.xlabel('Time')\n",
    "plt.ylabel('Length')\n",
    "plt.title('Time vs Length')\n",
    "plt.show()"
   ]
  },
  {
   "cell_type": "code",
   "execution_count": null,
   "id": "931a4798-bba0-4bab-bc8b-069bd14392d2",
   "metadata": {},
   "outputs": [],
   "source": []
  },
  {
   "cell_type": "code",
   "execution_count": 4,
   "id": "bf53f972-652d-44e8-890b-dc25cb4648a0",
   "metadata": {},
   "outputs": [
    {
     "data": {
      "text/html": [
       "<div>\n",
       "<style scoped>\n",
       "    .dataframe tbody tr th:only-of-type {\n",
       "        vertical-align: middle;\n",
       "    }\n",
       "\n",
       "    .dataframe tbody tr th {\n",
       "        vertical-align: top;\n",
       "    }\n",
       "\n",
       "    .dataframe thead th {\n",
       "        text-align: right;\n",
       "    }\n",
       "</style>\n",
       "<table border=\"1\" class=\"dataframe\">\n",
       "  <thead>\n",
       "    <tr style=\"text-align: right;\">\n",
       "      <th></th>\n",
       "      <th>No.</th>\n",
       "      <th>Time</th>\n",
       "      <th>Source</th>\n",
       "      <th>Destination</th>\n",
       "      <th>Protocol</th>\n",
       "      <th>Length</th>\n",
       "      <th>Info</th>\n",
       "    </tr>\n",
       "  </thead>\n",
       "  <tbody>\n",
       "    <tr>\n",
       "      <th>0</th>\n",
       "      <td>2</td>\n",
       "      <td>0.919980</td>\n",
       "      <td>2a00:a041:3c5d:4d00:f4a4:3acb:df53:1bea</td>\n",
       "      <td>2a03:2880:f258:1c3:face:b00c:0:167</td>\n",
       "      <td>TLSv1.2</td>\n",
       "      <td>156</td>\n",
       "      <td>Application Data</td>\n",
       "    </tr>\n",
       "    <tr>\n",
       "      <th>1</th>\n",
       "      <td>11</td>\n",
       "      <td>3.079813</td>\n",
       "      <td>2a00:a041:3c5d:4d00:f4a4:3acb:df53:1bea</td>\n",
       "      <td>2a03:2880:f258:1c3:face:b00c:0:167</td>\n",
       "      <td>TLSv1.2</td>\n",
       "      <td>956</td>\n",
       "      <td>Application Data</td>\n",
       "    </tr>\n",
       "    <tr>\n",
       "      <th>2</th>\n",
       "      <td>16</td>\n",
       "      <td>3.378218</td>\n",
       "      <td>2a03:2880:f258:1c3:face:b00c:0:167</td>\n",
       "      <td>2a00:a041:3c5d:4d00:f4a4:3acb:df53:1bea</td>\n",
       "      <td>TLSv1.2</td>\n",
       "      <td>197</td>\n",
       "      <td>Application Data</td>\n",
       "    </tr>\n",
       "    <tr>\n",
       "      <th>3</th>\n",
       "      <td>18</td>\n",
       "      <td>3.685451</td>\n",
       "      <td>2a03:2880:f258:1c3:face:b00c:0:167</td>\n",
       "      <td>2a00:a041:3c5d:4d00:f4a4:3acb:df53:1bea</td>\n",
       "      <td>TLSv1.2</td>\n",
       "      <td>180</td>\n",
       "      <td>Application Data</td>\n",
       "    </tr>\n",
       "    <tr>\n",
       "      <th>4</th>\n",
       "      <td>20</td>\n",
       "      <td>3.692586</td>\n",
       "      <td>2a00:a041:3c5d:4d00:f4a4:3acb:df53:1bea</td>\n",
       "      <td>2a03:2880:f258:1c3:face:b00c:0:167</td>\n",
       "      <td>TLSv1.2</td>\n",
       "      <td>179</td>\n",
       "      <td>Application Data</td>\n",
       "    </tr>\n",
       "  </tbody>\n",
       "</table>\n",
       "</div>"
      ],
      "text/plain": [
       "   No.      Time                                   Source  \\\n",
       "0    2  0.919980  2a00:a041:3c5d:4d00:f4a4:3acb:df53:1bea   \n",
       "1   11  3.079813  2a00:a041:3c5d:4d00:f4a4:3acb:df53:1bea   \n",
       "2   16  3.378218       2a03:2880:f258:1c3:face:b00c:0:167   \n",
       "3   18  3.685451       2a03:2880:f258:1c3:face:b00c:0:167   \n",
       "4   20  3.692586  2a00:a041:3c5d:4d00:f4a4:3acb:df53:1bea   \n",
       "\n",
       "                               Destination Protocol  Length              Info  \n",
       "0       2a03:2880:f258:1c3:face:b00c:0:167  TLSv1.2     156  Application Data  \n",
       "1       2a03:2880:f258:1c3:face:b00c:0:167  TLSv1.2     956  Application Data  \n",
       "2  2a00:a041:3c5d:4d00:f4a4:3acb:df53:1bea  TLSv1.2     197  Application Data  \n",
       "3  2a00:a041:3c5d:4d00:f4a4:3acb:df53:1bea  TLSv1.2     180  Application Data  \n",
       "4       2a03:2880:f258:1c3:face:b00c:0:167  TLSv1.2     179  Application Data  "
      ]
     },
     "execution_count": 4,
     "metadata": {},
     "output_type": "execute_result"
    }
   ],
   "source": [
    "long_text_data = pd.read_csv(\"long_text.csv\")\n",
    "long_text_data.head()"
   ]
  },
  {
   "cell_type": "code",
   "execution_count": 13,
   "id": "9828e552-eb52-465a-b7ed-89b554474f37",
   "metadata": {},
   "outputs": [
    {
     "data": {
      "image/png": "[encoded data removed]",
      "text/plain": [
       "<Figure size 2000x800 with 1 Axes>"
      ]
     },
     "metadata": {},
     "output_type": "display_data"
    }
   ],
   "source": [
    "time = long_text_data['Time']\n",
    "len = long_text_data['Length']\n",
    "plt.figure(figsize=(20,8)) \n",
    "plt.stem(time, len,linefmt ='black',markerfmt = '', basefmt='black')\n",
    "plt.xlabel('Time')\n",
    "plt.ylabel('Length')\n",
    "plt.title('Time vs Length')\n",
    "plt.show()"
   ]
  },
  {
   "cell_type": "code",
   "execution_count": null,
   "id": "b7684706-6c47-441e-ab77-ec472cba9680",
   "metadata": {},
   "outputs": [],
   "source": []
  },
  {
   "cell_type": "code",
   "execution_count": null,
   "id": "41326264-fb64-4c17-a1d2-6ca9038634a5",
   "metadata": {},
   "outputs": [],
   "source": []
  },
  {
   "cell_type": "code",
   "execution_count": null,
   "id": "8538a507-864c-431d-8deb-fa17e2e5f0a8",
   "metadata": {},
   "outputs": [],
   "source": []
  }
 ],
 "metadata": {
  "kernelspec": {
   "display_name": "Python 3 (ipykernel)",
   "language": "python",
   "name": "python3"
  },
  "language_info": {
   "codemirror_mode": {
    "name": "ipython",
    "version": 3
   },
   "file_extension": ".py",
   "mimetype": "text/x-python",
   "name": "python",
   "nbconvert_exporter": "python",
   "pygments_lexer": "ipython3",
   "version": "3.10.12"
  }
 },
 "nbformat": 4,
 "nbformat_minor": 5
}
