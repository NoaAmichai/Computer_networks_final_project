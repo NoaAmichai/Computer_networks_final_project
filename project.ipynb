{
 "cells": [
  {
   "cell_type": "code",
   "execution_count": 1,
   "id": "c062c942-148b-4796-ab20-52a62c6ead60",
   "metadata": {},
   "outputs": [],
   "source": [
    "import pandas as pd\n",
    "import numpy as np\n",
    "import matplotlib.pyplot as plt"
   ]
  },
  {
   "cell_type": "code",
   "execution_count": null,
   "id": "8fe84dff-f5b8-47de-a9bc-b387dfbccbce",
   "metadata": {},
   "outputs": [],
   "source": []
  },
  {
   "cell_type": "markdown",
   "id": "c308f50a-8c0c-4ae5-b0f9-489df16f63bb",
   "metadata": {},
   "source": [
    "### Pictures Group"
   ]
  },
  {
   "cell_type": "code",
   "execution_count": 2,
   "id": "3c44edaf-f0ef-4497-9ac7-8bd4ad5fe38d",
   "metadata": {},
   "outputs": [
    {
     "data": {
      "text/html": [
       "<div>\n",
       "<style scoped>\n",
       "    .dataframe tbody tr th:only-of-type {\n",
       "        vertical-align: middle;\n",
       "    }\n",
       "\n",
       "    .dataframe tbody tr th {\n",
       "        vertical-align: top;\n",
       "    }\n",
       "\n",
       "    .dataframe thead th {\n",
       "        text-align: right;\n",
       "    }\n",
       "</style>\n",
       "<table border=\"1\" class=\"dataframe\">\n",
       "  <thead>\n",
       "    <tr style=\"text-align: right;\">\n",
       "      <th></th>\n",
       "      <th>No.</th>\n",
       "      <th>Time</th>\n",
       "      <th>Source</th>\n",
       "      <th>Destination</th>\n",
       "      <th>Protocol</th>\n",
       "      <th>Length</th>\n",
       "      <th>Info</th>\n",
       "    </tr>\n",
       "  </thead>\n",
       "  <tbody>\n",
       "    <tr>\n",
       "      <th>0</th>\n",
       "      <td>1</td>\n",
       "      <td>0.000000</td>\n",
       "      <td>fe80::e2ce:c3ff:fe1a:1978</td>\n",
       "      <td>ff02::1</td>\n",
       "      <td>ICMPv6</td>\n",
       "      <td>174</td>\n",
       "      <td>Router Advertisement from e0:ce:c3:1a:19:78</td>\n",
       "    </tr>\n",
       "    <tr>\n",
       "      <th>1</th>\n",
       "      <td>2</td>\n",
       "      <td>0.014506</td>\n",
       "      <td>fe80::a8c:14f0:c17c:d903</td>\n",
       "      <td>ff02::16</td>\n",
       "      <td>ICMPv6</td>\n",
       "      <td>150</td>\n",
       "      <td>Multicast Listener Report Message v2</td>\n",
       "    </tr>\n",
       "    <tr>\n",
       "      <th>2</th>\n",
       "      <td>3</td>\n",
       "      <td>0.304433</td>\n",
       "      <td>140.82.113.26</td>\n",
       "      <td>192.168.1.12</td>\n",
       "      <td>TLSv1.2</td>\n",
       "      <td>91</td>\n",
       "      <td>Application Data</td>\n",
       "    </tr>\n",
       "    <tr>\n",
       "      <th>3</th>\n",
       "      <td>4</td>\n",
       "      <td>0.304697</td>\n",
       "      <td>192.168.1.12</td>\n",
       "      <td>140.82.113.26</td>\n",
       "      <td>TLSv1.2</td>\n",
       "      <td>95</td>\n",
       "      <td>Application Data</td>\n",
       "    </tr>\n",
       "    <tr>\n",
       "      <th>4</th>\n",
       "      <td>5</td>\n",
       "      <td>0.393250</td>\n",
       "      <td>2606:4700::6812:3a2</td>\n",
       "      <td>2a00:a041:3c5d:4d00:605e:f34d:a502:2044</td>\n",
       "      <td>TLSv1.2</td>\n",
       "      <td>125</td>\n",
       "      <td>Application Data</td>\n",
       "    </tr>\n",
       "  </tbody>\n",
       "</table>\n",
       "</div>"
      ],
      "text/plain": [
       "   No.      Time                     Source  \\\n",
       "0    1  0.000000  fe80::e2ce:c3ff:fe1a:1978   \n",
       "1    2  0.014506   fe80::a8c:14f0:c17c:d903   \n",
       "2    3  0.304433              140.82.113.26   \n",
       "3    4  0.304697               192.168.1.12   \n",
       "4    5  0.393250        2606:4700::6812:3a2   \n",
       "\n",
       "                               Destination Protocol  Length  \\\n",
       "0                                  ff02::1   ICMPv6     174   \n",
       "1                                 ff02::16   ICMPv6     150   \n",
       "2                             192.168.1.12  TLSv1.2      91   \n",
       "3                            140.82.113.26  TLSv1.2      95   \n",
       "4  2a00:a041:3c5d:4d00:605e:f34d:a502:2044  TLSv1.2     125   \n",
       "\n",
       "                                          Info  \n",
       "0  Router Advertisement from e0:ce:c3:1a:19:78  \n",
       "1         Multicast Listener Report Message v2  \n",
       "2                             Application Data  \n",
       "3                             Application Data  \n",
       "4                             Application Data  "
      ]
     },
     "execution_count": 2,
     "metadata": {},
     "output_type": "execute_result"
    }
   ],
   "source": [
    "pictures_data = pd.read_csv(\"pictures_data.csv\")\n",
    "picatures_data.head()"
   ]
  },
  {
   "cell_type": "code",
   "execution_count": 3,
   "id": "37c6d810-c454-4a3c-a41a-bd2fc7ced124",
   "metadata": {},
   "outputs": [
    {
     "data": {
      "text/plain": [
       "Protocol\n",
       "TCP        2992\n",
       "TLSv1.3    1165\n",
       "TLSv1.2     274\n",
       "ICMPv6       46\n",
       "MDNS         27\n",
       "SSDP         16\n",
       "ARP          11\n",
       "DNS          10\n",
       "0x86dd       10\n",
       "IGMPv2        2\n",
       "IGMPv3        1\n",
       "DHCP          1\n",
       "Name: count, dtype: int64"
      ]
     },
     "execution_count": 3,
     "metadata": {},
     "output_type": "execute_result"
    }
   ],
   "source": [
    "pictures_data['Protocol'].value_counts()"
   ]
  },
  {
   "cell_type": "code",
   "execution_count": 58,
   "id": "92dd8517-d768-4474-a06d-f12d9facd096",
   "metadata": {},
   "outputs": [
    {
     "data": {
      "image/png": "[encoded data removed]",
      "text/plain": [
       "<Figure size 2000x800 with 1 Axes>"
      ]
     },
     "metadata": {},
     "output_type": "display_data"
    }
   ],
   "source": [
    "pictures_data_filtered = pictures_data[pictures_data['Protocol'].str.contains('TLS')] \n",
    "\n",
    "time = pictures_data_filtered['Time']\n",
    "len = pictures_data_filtered['Length']\n",
    "plt.figure(figsize=(20,8)) \n",
    "plt.stem(time, len,linefmt ='black',markerfmt = '', basefmt='black')\n",
    "plt.xlabel('Time')\n",
    "plt.ylabel('Length')\n",
    "plt.title('Time vs Length')\n",
    "plt.show()"
   ]
  },
  {
   "cell_type": "code",
   "execution_count": null,
   "id": "374b8fa2-a727-408b-a68e-58f5c6942a12",
   "metadata": {},
   "outputs": [],
   "source": []
  },
  {
   "cell_type": "markdown",
   "id": "ab1a82d8-0c70-47e3-ac05-67c26e511ec2",
   "metadata": {},
   "source": [
    "### Video Group "
   ]
  },
  {
   "cell_type": "code",
   "execution_count": 5,
   "id": "bedf538d-1f6a-469f-a5f9-d43458a74ec9",
   "metadata": {
    "scrolled": true
   },
   "outputs": [
    {
     "data": {
      "text/html": [
       "<div>\n",
       "<style scoped>\n",
       "    .dataframe tbody tr th:only-of-type {\n",
       "        vertical-align: middle;\n",
       "    }\n",
       "\n",
       "    .dataframe tbody tr th {\n",
       "        vertical-align: top;\n",
       "    }\n",
       "\n",
       "    .dataframe thead th {\n",
       "        text-align: right;\n",
       "    }\n",
       "</style>\n",
       "<table border=\"1\" class=\"dataframe\">\n",
       "  <thead>\n",
       "    <tr style=\"text-align: right;\">\n",
       "      <th></th>\n",
       "      <th>No.</th>\n",
       "      <th>Time</th>\n",
       "      <th>Source</th>\n",
       "      <th>Destination</th>\n",
       "      <th>Protocol</th>\n",
       "      <th>Length</th>\n",
       "      <th>Info</th>\n",
       "    </tr>\n",
       "  </thead>\n",
       "  <tbody>\n",
       "    <tr>\n",
       "      <th>0</th>\n",
       "      <td>1</td>\n",
       "      <td>0.000000e+00</td>\n",
       "      <td>192.168.1.18</td>\n",
       "      <td>224.0.0.251</td>\n",
       "      <td>MDNS</td>\n",
       "      <td>101</td>\n",
       "      <td>Standard query 0x0000 SRV Roku 3   1GJ37V01468...</td>\n",
       "    </tr>\n",
       "    <tr>\n",
       "      <th>1</th>\n",
       "      <td>2</td>\n",
       "      <td>4.520000e-07</td>\n",
       "      <td>192.168.1.18</td>\n",
       "      <td>224.0.0.251</td>\n",
       "      <td>MDNS</td>\n",
       "      <td>182</td>\n",
       "      <td>Standard query response 0x0000 SRV, cache flus...</td>\n",
       "    </tr>\n",
       "    <tr>\n",
       "      <th>2</th>\n",
       "      <td>3</td>\n",
       "      <td>6.756179e+00</td>\n",
       "      <td>192.168.1.10</td>\n",
       "      <td>224.0.0.251</td>\n",
       "      <td>MDNS</td>\n",
       "      <td>91</td>\n",
       "      <td>Standard query 0x0000 PTR _raop._tcp.local, \"Q...</td>\n",
       "    </tr>\n",
       "    <tr>\n",
       "      <th>3</th>\n",
       "      <td>4</td>\n",
       "      <td>8.029800e+00</td>\n",
       "      <td>192.168.1.12</td>\n",
       "      <td>157.240.221.60</td>\n",
       "      <td>TLSv1.2</td>\n",
       "      <td>135</td>\n",
       "      <td>Application Data</td>\n",
       "    </tr>\n",
       "    <tr>\n",
       "      <th>4</th>\n",
       "      <td>5</td>\n",
       "      <td>8.109785e+00</td>\n",
       "      <td>157.240.221.60</td>\n",
       "      <td>192.168.1.12</td>\n",
       "      <td>TCP</td>\n",
       "      <td>66</td>\n",
       "      <td>443  &gt;  45474 [ACK] Seq=1 Ack=70 Win=325 Len=0...</td>\n",
       "    </tr>\n",
       "  </tbody>\n",
       "</table>\n",
       "</div>"
      ],
      "text/plain": [
       "   No.          Time          Source     Destination Protocol  Length  \\\n",
       "0    1  0.000000e+00    192.168.1.18     224.0.0.251     MDNS     101   \n",
       "1    2  4.520000e-07    192.168.1.18     224.0.0.251     MDNS     182   \n",
       "2    3  6.756179e+00    192.168.1.10     224.0.0.251     MDNS      91   \n",
       "3    4  8.029800e+00    192.168.1.12  157.240.221.60  TLSv1.2     135   \n",
       "4    5  8.109785e+00  157.240.221.60    192.168.1.12      TCP      66   \n",
       "\n",
       "                                                Info  \n",
       "0  Standard query 0x0000 SRV Roku 3   1GJ37V01468...  \n",
       "1  Standard query response 0x0000 SRV, cache flus...  \n",
       "2  Standard query 0x0000 PTR _raop._tcp.local, \"Q...  \n",
       "3                                   Application Data  \n",
       "4  443  >  45474 [ACK] Seq=1 Ack=70 Win=325 Len=0...  "
      ]
     },
     "execution_count": 5,
     "metadata": {},
     "output_type": "execute_result"
    }
   ],
   "source": [
    "video_data = pd.read_csv(\"video_data.csv\")\n",
    "video_data.head()"
   ]
  },
  {
   "cell_type": "code",
   "execution_count": 6,
   "id": "836ab846-09eb-4728-96ce-43038765e8b2",
   "metadata": {},
   "outputs": [
    {
     "data": {
      "text/plain": [
       "Protocol\n",
       "TCP        287\n",
       "TLSv1.2    126\n",
       "ICMPv6      48\n",
       "TLSv1.3     42\n",
       "MDNS        25\n",
       "DNS         24\n",
       "SSDP        16\n",
       "ARP          6\n",
       "HTTP         3\n",
       "DHCP         2\n",
       "IGMPv2       2\n",
       "IGMPv3       1\n",
       "0x86dd       1\n",
       "Name: count, dtype: int64"
      ]
     },
     "execution_count": 6,
     "metadata": {},
     "output_type": "execute_result"
    }
   ],
   "source": [
    "video_data['Protocol'].value_counts()"
   ]
  },
  {
   "cell_type": "code",
   "execution_count": 57,
   "id": "5ff477c6-463b-40f6-82a2-7868230b85ed",
   "metadata": {},
   "outputs": [
    {
     "data": {
      "image/png": "[encoded data removed]",
      "text/plain": [
       "<Figure size 2000x800 with 1 Axes>"
      ]
     },
     "metadata": {},
     "output_type": "display_data"
    }
   ],
   "source": [
    "video_data_filtered = video_data[video_data['Protocol'].str.contains('TLS')] \n",
    "\n",
    "time = video_data_filtered['Time']\n",
    "len = video_data_filtered['Length']\n",
    "plt.figure(figsize=(20,8)) \n",
    "plt.stem(time, len,linefmt ='black',markerfmt = '', basefmt='black')\n",
    "plt.xlabel('Time')\n",
    "plt.ylabel('Length')\n",
    "plt.title('Time vs Length')\n",
    "plt.show()"
   ]
  },
  {
   "cell_type": "code",
   "execution_count": null,
   "id": "3865c6f3-5df4-4be9-9b05-76977b603afd",
   "metadata": {},
   "outputs": [],
   "source": []
  },
  {
   "cell_type": "code",
   "execution_count": null,
   "id": "51170f8a-b212-463e-82f1-e6063599c1a8",
   "metadata": {},
   "outputs": [],
   "source": []
  },
  {
   "cell_type": "code",
   "execution_count": null,
   "id": "4a511c97-ce74-43da-96c9-3c364bbb5463",
   "metadata": {},
   "outputs": [],
   "source": []
  },
  {
   "cell_type": "markdown",
   "id": "2d664e48-542d-4ecc-aefc-47a55f9a2d74",
   "metadata": {},
   "source": [
    "### Voice Group "
   ]
  },
  {
   "cell_type": "code",
   "execution_count": 40,
   "id": "bf53f972-652d-44e8-890b-dc25cb4648a0",
   "metadata": {},
   "outputs": [
    {
     "data": {
      "text/html": [
       "<div>\n",
       "<style scoped>\n",
       "    .dataframe tbody tr th:only-of-type {\n",
       "        vertical-align: middle;\n",
       "    }\n",
       "\n",
       "    .dataframe tbody tr th {\n",
       "        vertical-align: top;\n",
       "    }\n",
       "\n",
       "    .dataframe thead th {\n",
       "        text-align: right;\n",
       "    }\n",
       "</style>\n",
       "<table border=\"1\" class=\"dataframe\">\n",
       "  <thead>\n",
       "    <tr style=\"text-align: right;\">\n",
       "      <th></th>\n",
       "      <th>No.</th>\n",
       "      <th>Time</th>\n",
       "      <th>Source</th>\n",
       "      <th>Destination</th>\n",
       "      <th>Protocol</th>\n",
       "      <th>Length</th>\n",
       "      <th>Info</th>\n",
       "    </tr>\n",
       "  </thead>\n",
       "  <tbody>\n",
       "    <tr>\n",
       "      <th>0</th>\n",
       "      <td>1</td>\n",
       "      <td>0.000000e+00</td>\n",
       "      <td>192.168.1.1</td>\n",
       "      <td>224.0.0.1</td>\n",
       "      <td>IGMPv2</td>\n",
       "      <td>42</td>\n",
       "      <td>Membership Query, general</td>\n",
       "    </tr>\n",
       "    <tr>\n",
       "      <th>1</th>\n",
       "      <td>2</td>\n",
       "      <td>2.420000e-07</td>\n",
       "      <td>192.168.1.1</td>\n",
       "      <td>224.0.0.1</td>\n",
       "      <td>IGMPv3</td>\n",
       "      <td>46</td>\n",
       "      <td>Membership Query, general</td>\n",
       "    </tr>\n",
       "    <tr>\n",
       "      <th>2</th>\n",
       "      <td>3</td>\n",
       "      <td>2.870000e-07</td>\n",
       "      <td>fe80::e2ce:c3ff:fe1a:1978</td>\n",
       "      <td>ff02::1</td>\n",
       "      <td>ICMPv6</td>\n",
       "      <td>90</td>\n",
       "      <td>Multicast Listener Query</td>\n",
       "    </tr>\n",
       "    <tr>\n",
       "      <th>3</th>\n",
       "      <td>4</td>\n",
       "      <td>2.021001e-01</td>\n",
       "      <td>192.168.1.15</td>\n",
       "      <td>224.0.0.251</td>\n",
       "      <td>IGMPv2</td>\n",
       "      <td>46</td>\n",
       "      <td>Membership Report group 224.0.0.251</td>\n",
       "    </tr>\n",
       "    <tr>\n",
       "      <th>4</th>\n",
       "      <td>5</td>\n",
       "      <td>1.431816e+00</td>\n",
       "      <td>fe80::e2ce:c3ff:fe1a:1978</td>\n",
       "      <td>ff02::1</td>\n",
       "      <td>ICMPv6</td>\n",
       "      <td>174</td>\n",
       "      <td>Router Advertisement from e0:ce:c3:1a:19:78</td>\n",
       "    </tr>\n",
       "  </tbody>\n",
       "</table>\n",
       "</div>"
      ],
      "text/plain": [
       "   No.          Time                     Source  Destination Protocol  Length  \\\n",
       "0    1  0.000000e+00                192.168.1.1    224.0.0.1   IGMPv2      42   \n",
       "1    2  2.420000e-07                192.168.1.1    224.0.0.1   IGMPv3      46   \n",
       "2    3  2.870000e-07  fe80::e2ce:c3ff:fe1a:1978      ff02::1   ICMPv6      90   \n",
       "3    4  2.021001e-01               192.168.1.15  224.0.0.251   IGMPv2      46   \n",
       "4    5  1.431816e+00  fe80::e2ce:c3ff:fe1a:1978      ff02::1   ICMPv6     174   \n",
       "\n",
       "                                          Info  \n",
       "0                    Membership Query, general  \n",
       "1                    Membership Query, general  \n",
       "2                     Multicast Listener Query  \n",
       "3          Membership Report group 224.0.0.251  \n",
       "4  Router Advertisement from e0:ce:c3:1a:19:78  "
      ]
     },
     "execution_count": 40,
     "metadata": {},
     "output_type": "execute_result"
    }
   ],
   "source": [
    "voice_data = pd.read_csv(\"voice_data.csv\")\n",
    "voice_data.head()"
   ]
  },
  {
   "cell_type": "code",
   "execution_count": 41,
   "id": "097c3123-bd8d-4c3f-86fa-70f601c543f9",
   "metadata": {
    "scrolled": true
   },
   "outputs": [
    {
     "data": {
      "text/plain": [
       "Protocol\n",
       "TCP        638\n",
       "TLSv1.2    163\n",
       "TLSv1.3    152\n",
       "ICMPv6      62\n",
       "MDNS        54\n",
       "DNS         38\n",
       "SSDP        16\n",
       "IGMPv2       6\n",
       "ARP          4\n",
       "HTTP         4\n",
       "IGMPv3       2\n",
       "Name: count, dtype: int64"
      ]
     },
     "execution_count": 41,
     "metadata": {},
     "output_type": "execute_result"
    }
   ],
   "source": [
    "voice_data['Protocol'].value_counts()"
   ]
  },
  {
   "cell_type": "code",
   "execution_count": 56,
   "id": "1398af84-b65d-45a7-9d07-3af29d384da4",
   "metadata": {},
   "outputs": [
    {
     "data": {
      "image/png": "[encoded data removed]",
      "text/plain": [
       "<Figure size 2000x800 with 1 Axes>"
      ]
     },
     "metadata": {},
     "output_type": "display_data"
    }
   ],
   "source": [
    "voice_data_filtered = voice_data[voice_data['Protocol'].str.contains('TLS')] \n",
    "\n",
    "time = voice_data_filtered['Time']\n",
    "len = voice_data_filtered['Length']\n",
    "plt.figure(figsize=(20,8)) \n",
    "plt.stem(time, len,linefmt ='black',markerfmt = '', basefmt='black')\n",
    "plt.xlabel('Time')\n",
    "plt.ylabel('Length')\n",
    "plt.title('Time vs Length')\n",
    "plt.show()"
   ]
  },
  {
   "cell_type": "code",
   "execution_count": null,
   "id": "9828e552-eb52-465a-b7ed-89b554474f37",
   "metadata": {},
   "outputs": [],
   "source": []
  },
  {
   "cell_type": "code",
   "execution_count": null,
   "id": "b7684706-6c47-441e-ab77-ec472cba9680",
   "metadata": {},
   "outputs": [],
   "source": []
  },
  {
   "cell_type": "markdown",
   "id": "1d080e20-c755-4fe4-b634-2a3b4346f421",
   "metadata": {},
   "source": [
    "### Text Group"
   ]
  },
  {
   "cell_type": "code",
   "execution_count": 20,
   "id": "8538a507-864c-431d-8deb-fa17e2e5f0a8",
   "metadata": {},
   "outputs": [
    {
     "data": {
      "text/html": [
       "<div>\n",
       "<style scoped>\n",
       "    .dataframe tbody tr th:only-of-type {\n",
       "        vertical-align: middle;\n",
       "    }\n",
       "\n",
       "    .dataframe tbody tr th {\n",
       "        vertical-align: top;\n",
       "    }\n",
       "\n",
       "    .dataframe thead th {\n",
       "        text-align: right;\n",
       "    }\n",
       "</style>\n",
       "<table border=\"1\" class=\"dataframe\">\n",
       "  <thead>\n",
       "    <tr style=\"text-align: right;\">\n",
       "      <th></th>\n",
       "      <th>No.</th>\n",
       "      <th>Time</th>\n",
       "      <th>Source</th>\n",
       "      <th>Destination</th>\n",
       "      <th>Protocol</th>\n",
       "      <th>Length</th>\n",
       "      <th>Info</th>\n",
       "    </tr>\n",
       "  </thead>\n",
       "  <tbody>\n",
       "    <tr>\n",
       "      <th>0</th>\n",
       "      <td>4</td>\n",
       "      <td>4.400858</td>\n",
       "      <td>157.240.221.60</td>\n",
       "      <td>192.168.1.12</td>\n",
       "      <td>TLSv1.2</td>\n",
       "      <td>433</td>\n",
       "      <td>Application Data</td>\n",
       "    </tr>\n",
       "    <tr>\n",
       "      <th>1</th>\n",
       "      <td>5</td>\n",
       "      <td>4.444965</td>\n",
       "      <td>192.168.1.12</td>\n",
       "      <td>157.240.221.60</td>\n",
       "      <td>TCP</td>\n",
       "      <td>66</td>\n",
       "      <td>45474  &gt;  443 [ACK] Seq=1 Ack=368 Win=1015 Len...</td>\n",
       "    </tr>\n",
       "    <tr>\n",
       "      <th>2</th>\n",
       "      <td>6</td>\n",
       "      <td>5.030028</td>\n",
       "      <td>192.168.1.12</td>\n",
       "      <td>157.240.221.60</td>\n",
       "      <td>TLSv1.2</td>\n",
       "      <td>165</td>\n",
       "      <td>Application Data</td>\n",
       "    </tr>\n",
       "    <tr>\n",
       "      <th>3</th>\n",
       "      <td>7</td>\n",
       "      <td>5.109090</td>\n",
       "      <td>157.240.221.60</td>\n",
       "      <td>192.168.1.12</td>\n",
       "      <td>TCP</td>\n",
       "      <td>66</td>\n",
       "      <td>443  &gt;  45474 [ACK] Seq=368 Ack=100 Win=376 Le...</td>\n",
       "    </tr>\n",
       "    <tr>\n",
       "      <th>4</th>\n",
       "      <td>8</td>\n",
       "      <td>6.039570</td>\n",
       "      <td>157.240.221.60</td>\n",
       "      <td>192.168.1.12</td>\n",
       "      <td>TCP</td>\n",
       "      <td>1446</td>\n",
       "      <td>443  &gt;  45474 [ACK] Seq=368 Ack=100 Win=376 Le...</td>\n",
       "    </tr>\n",
       "  </tbody>\n",
       "</table>\n",
       "</div>"
      ],
      "text/plain": [
       "   No.      Time          Source     Destination Protocol  Length  \\\n",
       "0    4  4.400858  157.240.221.60    192.168.1.12  TLSv1.2     433   \n",
       "1    5  4.444965    192.168.1.12  157.240.221.60      TCP      66   \n",
       "2    6  5.030028    192.168.1.12  157.240.221.60  TLSv1.2     165   \n",
       "3    7  5.109090  157.240.221.60    192.168.1.12      TCP      66   \n",
       "4    8  6.039570  157.240.221.60    192.168.1.12      TCP    1446   \n",
       "\n",
       "                                                Info  \n",
       "0                                   Application Data  \n",
       "1  45474  >  443 [ACK] Seq=1 Ack=368 Win=1015 Len...  \n",
       "2                                   Application Data  \n",
       "3  443  >  45474 [ACK] Seq=368 Ack=100 Win=376 Le...  \n",
       "4  443  >  45474 [ACK] Seq=368 Ack=100 Win=376 Le...  "
      ]
     },
     "execution_count": 20,
     "metadata": {},
     "output_type": "execute_result"
    }
   ],
   "source": [
    "text_data = pd.read_csv(\"text_data_filtered.csv\")\n",
    "text_data.head()"
   ]
  },
  {
   "cell_type": "code",
   "execution_count": 17,
   "id": "54840501-25bd-4331-bb54-9f3c3c3ef0b8",
   "metadata": {},
   "outputs": [
    {
     "data": {
      "text/plain": [
       "Protocol\n",
       "TCP        385\n",
       "TLSv1.2    250\n",
       "QUIC        26\n",
       "HTTP         4\n",
       "Name: count, dtype: int64"
      ]
     },
     "execution_count": 17,
     "metadata": {},
     "output_type": "execute_result"
    }
   ],
   "source": [
    "text_data['Protocol'].value_counts()"
   ]
  },
  {
   "cell_type": "code",
   "execution_count": 59,
   "id": "9d85ed32-5cfa-4715-8dd2-394d7689598b",
   "metadata": {},
   "outputs": [
    {
     "data": {
      "image/png": "[encoded data removed]",
      "text/plain": [
       "<Figure size 2000x800 with 1 Axes>"
      ]
     },
     "metadata": {},
     "output_type": "display_data"
    }
   ],
   "source": [
    "text_data_filtered = text_data[text_data['Protocol'].str.contains('TLS')] \n",
    "\n",
    "time = text_data['Time']\n",
    "len = text_data['Length']\n",
    "plt.figure(figsize=(20,8)) \n",
    "plt.stem(time, len,linefmt ='black',markerfmt = '', basefmt='black')\n",
    "plt.xlabel('Time')\n",
    "plt.ylabel('Length')\n",
    "plt.title('Time vs Length')\n",
    "plt.show()"
   ]
  },
  {
   "cell_type": "code",
   "execution_count": null,
   "id": "13cb8beb-4062-4730-adf3-a84186b2ef6d",
   "metadata": {},
   "outputs": [],
   "source": []
  },
  {
   "cell_type": "code",
   "execution_count": null,
   "id": "22dbc4fd-bcb3-41c6-b3d5-9df2d338f6e7",
   "metadata": {},
   "outputs": [],
   "source": []
  },
  {
   "cell_type": "code",
   "execution_count": null,
   "id": "746cad0c-bf23-47d9-877e-9d83bb81fda8",
   "metadata": {},
   "outputs": [],
   "source": []
  },
  {
   "cell_type": "code",
   "execution_count": null,
   "id": "1d62f206-77e7-40c3-8fea-771542c888ff",
   "metadata": {},
   "outputs": [],
   "source": []
  },
  {
   "cell_type": "code",
   "execution_count": null,
   "id": "c10a43f1-5d6b-417b-bc26-b0a01167eb1d",
   "metadata": {},
   "outputs": [],
   "source": []
  }
 ],
 "metadata": {
  "kernelspec": {
   "display_name": "Python 3 (ipykernel)",
   "language": "python",
   "name": "python3"
  },
  "language_info": {
   "codemirror_mode": {
    "name": "ipython",
    "version": 3
   },
   "file_extension": ".py",
   "mimetype": "text/x-python",
   "name": "python",
   "nbconvert_exporter": "python",
   "pygments_lexer": "ipython3",
   "version": "3.10.12"
  }
 },
 "nbformat": 4,
 "nbformat_minor": 5
}
